{
 "cells": [
  {
   "cell_type": "markdown",
   "id": "daedf649",
   "metadata": {},
   "source": [
    "# 01. Data Collection and Initial Exploration\n",
    "*This notebook focuses on getting the data into a usable format and performing basic exploration.*"
   ]
  },
  {
   "cell_type": "markdown",
   "id": "cf285d2e",
   "metadata": {},
   "source": [
    "## Objectives\n",
    "- *Load language proficiency test result dataset from a publicly accessible source.*\n",
    "- *To ensure the dataset is stored securely within the project's directory structure.*\n",
    "- *To prepare the data for subsequent preprocessing and analysis steps.*\n",
    "- *To document the origin and relevance of the dataset in the context of the project.*\n",
    "## Inputs\n",
    "- *A URL pointing to the compressed dataset file (e.g., a zip file).*\n",
    "- *Python libraries: pandas, os, pathlib, matpotlib*\n",
    "\n",
    "## Outputs\n",
    "- *Loaded dataset displayed and summarized within the notebook.*\n",
    "- *CSV file stored or confirmed under data/raw/*\n",
    "\n",
    "## Additional information\n",
    "* *The Data Collection section primarily involves downloading and organizing the raw dataset before further processing.*\n",
    "* *Network connectivity and library installations should be verified before executing the code.*\n",
    "* *Ensure sufficient disk space and consider implementing error handling for robust data acquisition.*\n"
   ]
  },
  {
   "cell_type": "markdown",
   "id": "c66e99be",
   "metadata": {},
   "source": [
    "***"
   ]
  },
  {
   "cell_type": "markdown",
   "id": "10e6616f",
   "metadata": {},
   "source": [
    "# Project Directory Structure"
   ]
  },
  {
   "cell_type": "markdown",
   "id": "51909955",
   "metadata": {},
   "source": [
    "## Change working directory\n",
    "\n",
    "We need to change the working directory from its current folder to its parent folder\n",
    "- *We access the current directory with os.getcwd()*"
   ]
  },
  {
   "cell_type": "code",
   "execution_count": 1,
   "id": "59ddab55",
   "metadata": {},
   "outputs": [
    {
     "data": {
      "text/plain": [
       "'c:\\\\Users\\\\husse\\\\OneDrive\\\\Projects\\\\lang-level-pred\\\\jupyter_notebooks'"
      ]
     },
     "execution_count": 1,
     "metadata": {},
     "output_type": "execute_result"
    }
   ],
   "source": [
    "import os\n",
    "current_dir = os.getcwd()\n",
    "current_dir"
   ]
  },
  {
   "cell_type": "markdown",
   "id": "014dcc9a",
   "metadata": {},
   "source": [
    "We want to make the parent of the current directory the new current directory.\n",
    "\n",
    "- *os.path.dirname() gets the parent directory*\n",
    "- *os.chir() defines the new current directory*"
   ]
  },
  {
   "cell_type": "code",
   "execution_count": 2,
   "id": "a7c94591",
   "metadata": {},
   "outputs": [
    {
     "name": "stdout",
     "output_type": "stream",
     "text": [
      "You set a new current directory\n"
     ]
    }
   ],
   "source": [
    "os.chdir(os.path.dirname(current_dir))\n",
    "print(\"You set a new current directory\")"
   ]
  },
  {
   "cell_type": "code",
   "execution_count": 3,
   "id": "5557fcd1",
   "metadata": {},
   "outputs": [
    {
     "data": {
      "text/plain": [
       "'c:\\\\Users\\\\husse\\\\OneDrive\\\\Projects\\\\lang-level-pred'"
      ]
     },
     "execution_count": 3,
     "metadata": {},
     "output_type": "execute_result"
    }
   ],
   "source": [
    "import os\n",
    "current_dir = os.getcwd()\n",
    "current_dir"
   ]
  }
 ],
 "metadata": {
  "kernelspec": {
   "display_name": ".venv",
   "language": "python",
   "name": "python3"
  },
  "language_info": {
   "codemirror_mode": {
    "name": "ipython",
    "version": 3
   },
   "file_extension": ".py",
   "mimetype": "text/x-python",
   "name": "python",
   "nbconvert_exporter": "python",
   "pygments_lexer": "ipython3",
   "version": "3.13.2"
  }
 },
 "nbformat": 4,
 "nbformat_minor": 5
}

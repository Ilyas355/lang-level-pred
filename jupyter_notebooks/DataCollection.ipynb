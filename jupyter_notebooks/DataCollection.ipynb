{
 "cells": [
  {
   "cell_type": "markdown",
   "id": "daedf649",
   "metadata": {},
   "source": [
    "# 01. Data Collection and Initial Exploration\n",
    "*This notebook focuses on getting the data into a usable format and performing basic exploration.*"
   ]
  },
  {
   "cell_type": "markdown",
   "id": "cf285d2e",
   "metadata": {},
   "source": [
    "## Objectives\n",
    "- *Load language proficiency test result dataset from a publicly accessible source.*\n",
    "- *To ensure the dataset is stored securely within the project's directory structure.*\n",
    "- *To prepare the data for subsequent preprocessing and analysis steps.*\n",
    "- *To document the origin and relevance of the dataset in the context of the project.*\n",
    "## Inputs\n",
    "- *A URL pointing to the compressed dataset file (e.g., a zip file).*\n",
    "- *Python libraries: pandas, os, pathlib, matpotlib*\n",
    "\n",
    "## Outputs\n",
    "- *Loaded dataset displayed and summarized within the notebook.*\n",
    "- *CSV file stored or confirmed under data/raw/*\n",
    "\n",
    "## Additional information\n",
    "* *The Data Collection section primarily involves downloading and organizing the raw dataset before further processing.*\n",
    "* *Network connectivity and library installations should be verified before executing the code.*\n",
    "* *Ensure sufficient disk space and consider implementing error handling for robust data acquisition.*\n"
   ]
  },
  {
   "cell_type": "markdown",
   "id": "c66e99be",
   "metadata": {},
   "source": [
    "***"
   ]
  },
  {
   "cell_type": "markdown",
   "id": "10e6616f",
   "metadata": {},
   "source": [
    "# Project Directory Structure"
   ]
  },
  {
   "cell_type": "markdown",
   "id": "51909955",
   "metadata": {},
   "source": [
    "## Change working directory\n",
    "\n",
    "We need to change the working directory from its current folder to its parent folder\n",
    "- *We access the current directory with os.getcwd()*"
   ]
  },
  {
   "cell_type": "code",
   "execution_count": 1,
   "id": "59ddab55",
   "metadata": {},
   "outputs": [
    {
     "data": {
      "text/plain": [
       "'c:\\\\Users\\\\husse\\\\OneDrive\\\\Projects\\\\lang-level-pred\\\\jupyter_notebooks'"
      ]
     },
     "execution_count": 1,
     "metadata": {},
     "output_type": "execute_result"
    }
   ],
   "source": [
    "import os\n",
    "current_dir = os.getcwd()\n",
    "current_dir"
   ]
  },
  {
   "cell_type": "markdown",
   "id": "014dcc9a",
   "metadata": {},
   "source": [
    "We want to make the parent of the current directory the new current directory.\n",
    "\n",
    "- *os.path.dirname() gets the parent directory*\n",
    "- *os.chir() defines the new current directory*"
   ]
  },
  {
   "cell_type": "code",
   "execution_count": 2,
   "id": "a7c94591",
   "metadata": {},
   "outputs": [
    {
     "name": "stdout",
     "output_type": "stream",
     "text": [
      "You set a new current directory\n"
     ]
    }
   ],
   "source": [
    "os.chdir(os.path.dirname(current_dir))\n",
    "print(\"You set a new current directory\")"
   ]
  },
  {
   "cell_type": "code",
   "execution_count": 3,
   "id": "5557fcd1",
   "metadata": {},
   "outputs": [
    {
     "data": {
      "text/plain": [
       "'c:\\\\Users\\\\husse\\\\OneDrive\\\\Projects\\\\lang-level-pred'"
      ]
     },
     "execution_count": 3,
     "metadata": {},
     "output_type": "execute_result"
    }
   ],
   "source": [
    "import os\n",
    "current_dir = os.getcwd()\n",
    "current_dir"
   ]
  },
  {
   "cell_type": "markdown",
   "id": "e649ac6c",
   "metadata": {},
   "source": [
    "## Download dataset from github\n",
    "\n",
    "The following tasks are performed below:\n",
    "- a new folder called 'data/raw' is created to store files\n",
    "- fetches the dataset from github\n",
    "- Checks if the download worked correctly\n",
    "- Opens the downloaded file and removes any temporary files when done"
   ]
  },
  {
   "cell_type": "code",
   "execution_count": 4,
   "id": "e901bb06",
   "metadata": {},
   "outputs": [],
   "source": [
    "import requests, os, zipfile\n",
    "\n",
    "# Create data folder\n",
    "os.makedirs(\"data/raw\", exist_ok=True)\n",
    "\n",
    "# Define download path\n",
    "zip_url = \"https://raw.githubusercontent.com/Ilyas355/language-proficiency-dataset/main/lang_proficiency_results_raw.zip\"\n",
    "zip_path = \"data/raw/lang_proficiency_results_raw.zip\"\n",
    "\n",
    "# Download the file\n",
    "response = requests.get(zip_url)\n",
    "with open(zip_path, \"wb\") as f:\n",
    "    f.write(response.content)\n",
    "\n",
    "# Unzip the contents\n",
    "with zipfile.ZipFile(zip_path, 'r') as zip_ref:\n",
    "    zip_ref.extractall(\"data/raw\")\n",
    "\n",
    "# Delete the zip file if you want\n",
    "os.remove(zip_path)"
   ]
  },
  {
   "cell_type": "markdown",
   "id": "e9992fa2",
   "metadata": {},
   "source": [
    "---"
   ]
  },
  {
   "cell_type": "markdown",
   "id": "714f6172",
   "metadata": {},
   "source": [
    "# Data loading and basic exploration\n",
    "This code block imports fundamental Python libraries for data analysis and visualization and checks their versions\n",
    "\n",
    "- pandas: For data manipulation and analysis\n",
    "- numpy: For numerical computations\n",
    "- matplotlib: For creating visualizations and plots\n",
    "\n",
    "The version checks help ensure:\n",
    "- Code compatibility across different environments\n",
    "- Reproducibility of analysis\n",
    "- Easy debugging of version-specific issues"
   ]
  },
  {
   "cell_type": "code",
   "execution_count": 6,
   "id": "2f19b10a",
   "metadata": {},
   "outputs": [
    {
     "name": "stdout",
     "output_type": "stream",
     "text": [
      "pandas version: 2.3.1\n",
      "NumPy version: 2.3.1\n",
      "matplotlib version: 3.10.5\n"
     ]
    }
   ],
   "source": [
    "# Import data analysis tools\n",
    "import pandas as pd\n",
    "import numpy as np\n",
    "import matplotlib\n",
    "import matplotlib.pyplot as plt\n",
    "\n",
    "\n",
    "print(f\"pandas version: {pd.__version__}\")\n",
    "print(f\"NumPy version: {np.__version__}\")\n",
    "print(f\"matplotlib version: {matplotlib.__version__}\")\n"
   ]
  },
  {
   "cell_type": "markdown",
   "id": "9a37b69e",
   "metadata": {},
   "source": [
    "### List Files and Folders\n",
    "This code shows what files and folders are in our data folder"
   ]
  },
  {
   "cell_type": "code",
   "execution_count": 7,
   "id": "9e046e58",
   "metadata": {},
   "outputs": [
    {
     "name": "stdout",
     "output_type": "stream",
     "text": [
      "[INFO] Files/folders available in data\\raw:\n"
     ]
    },
    {
     "data": {
      "text/plain": [
       "['lang_proficiency_results_raw.csv']"
      ]
     },
     "execution_count": 7,
     "metadata": {},
     "output_type": "execute_result"
    }
   ],
   "source": [
    "import os\n",
    "from pathlib import Path\n",
    "\n",
    "dataset_dir = Path(\"data/raw\")\n",
    "print(f\"[INFO] Files/folders available in {dataset_dir}:\")\n",
    "os.listdir(dataset_dir)"
   ]
  },
  {
   "cell_type": "markdown",
   "id": "ee7c91a4",
   "metadata": {},
   "source": [
    "## Load dataset\n",
    "This code loads the dataset that is then displayed in the dataframe."
   ]
  },
  {
   "cell_type": "code",
   "execution_count": 8,
   "id": "6c9bba5f",
   "metadata": {},
   "outputs": [],
   "source": [
    "import pandas as pd\n",
    "from pathlib import Path\n",
    "\n",
    "# Define the path to the CSV file\n",
    "file_path = Path(\"data/raw/lang_proficiency_results_raw.csv\")\n",
    "\n",
    "# Read the CSV file\n",
    "df = pd.read_csv(file_path)"
   ]
  },
  {
   "cell_type": "markdown",
   "id": "109ab328",
   "metadata": {},
   "source": [
    "## DataFrame Information Display\n",
    "\n",
    "This code generates a comprehensive summary of our DataFrame, displaying:\n",
    "- Total number of entries\n",
    "- Column names and their data types\n",
    "- Memory usage statistics\n",
    "- Non-null count per column"
   ]
  },
  {
   "cell_type": "code",
   "execution_count": 9,
   "id": "3b2912b8",
   "metadata": {},
   "outputs": [
    {
     "name": "stdout",
     "output_type": "stream",
     "text": [
      "<class 'pandas.core.frame.DataFrame'>\n",
      "RangeIndex: 1010 entries, 0 to 1009\n",
      "Data columns (total 6 columns):\n",
      " #   Column           Non-Null Count  Dtype  \n",
      "---  ------           --------------  -----  \n",
      " 0   user_id          1010 non-null   int64  \n",
      " 1   speaking_score   996 non-null    float64\n",
      " 2   reading_score    1001 non-null   float64\n",
      " 3   listening_score  994 non-null    float64\n",
      " 4   writing_score    1002 non-null   float64\n",
      " 5   overall_cefr     994 non-null    object \n",
      "dtypes: float64(4), int64(1), object(1)\n",
      "memory usage: 47.5+ KB\n"
     ]
    }
   ],
   "source": [
    "df.info()"
   ]
  },
  {
   "cell_type": "markdown",
   "id": "61d7eaa1",
   "metadata": {},
   "source": [
    "## Statistical summary\n",
    "\n",
    "This code computes summary statistics for each numeric column:\n",
    "- count → number of non-missing (NaN excluded) values\n",
    "- mean → arithmetic mean of the non-missing values\n",
    "- std → standard deviation\n",
    "- min → minimum value\n",
    "- 25%, 50%, 75% → quartiles (Q1, median, Q3)\n",
    "- max → maximum value\n"
   ]
  },
  {
   "cell_type": "code",
   "execution_count": 10,
   "id": "d8814014",
   "metadata": {},
   "outputs": [
    {
     "data": {
      "text/html": [
       "<div>\n",
       "<style scoped>\n",
       "    .dataframe tbody tr th:only-of-type {\n",
       "        vertical-align: middle;\n",
       "    }\n",
       "\n",
       "    .dataframe tbody tr th {\n",
       "        vertical-align: top;\n",
       "    }\n",
       "\n",
       "    .dataframe thead th {\n",
       "        text-align: right;\n",
       "    }\n",
       "</style>\n",
       "<table border=\"1\" class=\"dataframe\">\n",
       "  <thead>\n",
       "    <tr style=\"text-align: right;\">\n",
       "      <th></th>\n",
       "      <th>user_id</th>\n",
       "      <th>speaking_score</th>\n",
       "      <th>reading_score</th>\n",
       "      <th>listening_score</th>\n",
       "      <th>writing_score</th>\n",
       "      <th>overall_cefr</th>\n",
       "    </tr>\n",
       "  </thead>\n",
       "  <tbody>\n",
       "    <tr>\n",
       "      <th>count</th>\n",
       "      <td>1010.000000</td>\n",
       "      <td>996.000000</td>\n",
       "      <td>1001.000000</td>\n",
       "      <td>994.000000</td>\n",
       "      <td>1002.000000</td>\n",
       "      <td>994</td>\n",
       "    </tr>\n",
       "    <tr>\n",
       "      <th>unique</th>\n",
       "      <td>NaN</td>\n",
       "      <td>NaN</td>\n",
       "      <td>NaN</td>\n",
       "      <td>NaN</td>\n",
       "      <td>NaN</td>\n",
       "      <td>8</td>\n",
       "    </tr>\n",
       "    <tr>\n",
       "      <th>top</th>\n",
       "      <td>NaN</td>\n",
       "      <td>NaN</td>\n",
       "      <td>NaN</td>\n",
       "      <td>NaN</td>\n",
       "      <td>NaN</td>\n",
       "      <td>A2</td>\n",
       "    </tr>\n",
       "    <tr>\n",
       "      <th>freq</th>\n",
       "      <td>NaN</td>\n",
       "      <td>NaN</td>\n",
       "      <td>NaN</td>\n",
       "      <td>NaN</td>\n",
       "      <td>NaN</td>\n",
       "      <td>213</td>\n",
       "    </tr>\n",
       "    <tr>\n",
       "      <th>mean</th>\n",
       "      <td>500.262376</td>\n",
       "      <td>61.194779</td>\n",
       "      <td>61.280719</td>\n",
       "      <td>61.381288</td>\n",
       "      <td>61.079840</td>\n",
       "      <td>NaN</td>\n",
       "    </tr>\n",
       "    <tr>\n",
       "      <th>std</th>\n",
       "      <td>288.692973</td>\n",
       "      <td>21.339708</td>\n",
       "      <td>21.550594</td>\n",
       "      <td>21.421030</td>\n",
       "      <td>21.200193</td>\n",
       "      <td>NaN</td>\n",
       "    </tr>\n",
       "    <tr>\n",
       "      <th>min</th>\n",
       "      <td>1.000000</td>\n",
       "      <td>25.000000</td>\n",
       "      <td>25.000000</td>\n",
       "      <td>25.000000</td>\n",
       "      <td>25.000000</td>\n",
       "      <td>NaN</td>\n",
       "    </tr>\n",
       "    <tr>\n",
       "      <th>25%</th>\n",
       "      <td>251.250000</td>\n",
       "      <td>43.000000</td>\n",
       "      <td>43.000000</td>\n",
       "      <td>42.000000</td>\n",
       "      <td>43.000000</td>\n",
       "      <td>NaN</td>\n",
       "    </tr>\n",
       "    <tr>\n",
       "      <th>50%</th>\n",
       "      <td>499.500000</td>\n",
       "      <td>60.000000</td>\n",
       "      <td>61.000000</td>\n",
       "      <td>60.000000</td>\n",
       "      <td>59.000000</td>\n",
       "      <td>NaN</td>\n",
       "    </tr>\n",
       "    <tr>\n",
       "      <th>75%</th>\n",
       "      <td>750.750000</td>\n",
       "      <td>79.000000</td>\n",
       "      <td>79.000000</td>\n",
       "      <td>80.000000</td>\n",
       "      <td>80.000000</td>\n",
       "      <td>NaN</td>\n",
       "    </tr>\n",
       "    <tr>\n",
       "      <th>max</th>\n",
       "      <td>1000.000000</td>\n",
       "      <td>100.000000</td>\n",
       "      <td>101.000000</td>\n",
       "      <td>100.000000</td>\n",
       "      <td>100.000000</td>\n",
       "      <td>NaN</td>\n",
       "    </tr>\n",
       "  </tbody>\n",
       "</table>\n",
       "</div>"
      ],
      "text/plain": [
       "            user_id  speaking_score  reading_score  listening_score  \\\n",
       "count   1010.000000      996.000000    1001.000000       994.000000   \n",
       "unique          NaN             NaN            NaN              NaN   \n",
       "top             NaN             NaN            NaN              NaN   \n",
       "freq            NaN             NaN            NaN              NaN   \n",
       "mean     500.262376       61.194779      61.280719        61.381288   \n",
       "std      288.692973       21.339708      21.550594        21.421030   \n",
       "min        1.000000       25.000000      25.000000        25.000000   \n",
       "25%      251.250000       43.000000      43.000000        42.000000   \n",
       "50%      499.500000       60.000000      61.000000        60.000000   \n",
       "75%      750.750000       79.000000      79.000000        80.000000   \n",
       "max     1000.000000      100.000000     101.000000       100.000000   \n",
       "\n",
       "        writing_score overall_cefr  \n",
       "count     1002.000000          994  \n",
       "unique            NaN            8  \n",
       "top               NaN           A2  \n",
       "freq              NaN          213  \n",
       "mean        61.079840          NaN  \n",
       "std         21.200193          NaN  \n",
       "min         25.000000          NaN  \n",
       "25%         43.000000          NaN  \n",
       "50%         59.000000          NaN  \n",
       "75%         80.000000          NaN  \n",
       "max        100.000000          NaN  "
      ]
     },
     "execution_count": 10,
     "metadata": {},
     "output_type": "execute_result"
    }
   ],
   "source": [
    "df.describe(include='all')"
   ]
  }
 ],
 "metadata": {
  "kernelspec": {
   "display_name": ".venv",
   "language": "python",
   "name": "python3"
  },
  "language_info": {
   "codemirror_mode": {
    "name": "ipython",
    "version": 3
   },
   "file_extension": ".py",
   "mimetype": "text/x-python",
   "name": "python",
   "nbconvert_exporter": "python",
   "pygments_lexer": "ipython3",
   "version": "3.13.2"
  }
 },
 "nbformat": 4,
 "nbformat_minor": 5
}

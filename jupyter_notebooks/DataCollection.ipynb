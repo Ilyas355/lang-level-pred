{
 "cells": [
  {
   "cell_type": "markdown",
   "id": "daedf649",
   "metadata": {},
   "source": [
    "# 01. Data Collection and Initial Exploration\n",
    "*This notebook focuses on getting the data into a usable format and performing basic exploration.*"
   ]
  },
  {
   "cell_type": "markdown",
   "id": "cf285d2e",
   "metadata": {},
   "source": [
    "## Objectives\n",
    "- *Load language proficiency test result dataset from a publicly accessible source.*\n",
    "- *To ensure the dataset is stored securely within the project's directory structure.*\n",
    "- *To prepare the data for subsequent preprocessing and analysis steps.*\n",
    "- *To document the origin and relevance of the dataset in the context of the project.*\n",
    "## Inputs\n",
    "- *A URL pointing to the compressed dataset file (e.g., a zip file).*\n",
    "- *Python libraries: pandas, os, pathlib, matpotlib*\n",
    "\n",
    "## Outputs\n",
    "- *Loaded dataset displayed and summarized within the notebook.*\n",
    "- *CSV file stored or confirmed under data/raw/*\n",
    "\n",
    "## Additional information\n",
    "* *The Data Collection section primarily involves downloading and organizing the raw dataset before further processing.*\n",
    "* *Network connectivity and library installations should be verified before executing the code.*\n",
    "* *Ensure sufficient disk space and consider implementing error handling for robust data acquisition.*\n"
   ]
  },
  {
   "cell_type": "markdown",
   "id": "c66e99be",
   "metadata": {},
   "source": [
    "***"
   ]
  },
  {
   "cell_type": "markdown",
   "id": "10e6616f",
   "metadata": {},
   "source": [
    "# Project Directory Structure"
   ]
  },
  {
   "cell_type": "markdown",
   "id": "51909955",
   "metadata": {},
   "source": [
    "## Change working directory\n",
    "\n",
    "We need to change the working directory from its current folder to its parent folder\n",
    "- *We access the current directory with os.getcwd()*"
   ]
  },
  {
   "cell_type": "code",
   "execution_count": 1,
   "id": "59ddab55",
   "metadata": {},
   "outputs": [
    {
     "data": {
      "text/plain": [
       "'c:\\\\Users\\\\husse\\\\OneDrive\\\\Projects\\\\lang-level-pred\\\\jupyter_notebooks'"
      ]
     },
     "execution_count": 1,
     "metadata": {},
     "output_type": "execute_result"
    }
   ],
   "source": [
    "import os\n",
    "current_dir = os.getcwd()\n",
    "current_dir"
   ]
  },
  {
   "cell_type": "markdown",
   "id": "014dcc9a",
   "metadata": {},
   "source": [
    "We want to make the parent of the current directory the new current directory.\n",
    "\n",
    "- *os.path.dirname() gets the parent directory*\n",
    "- *os.chir() defines the new current directory*"
   ]
  },
  {
   "cell_type": "code",
   "execution_count": 2,
   "id": "a7c94591",
   "metadata": {},
   "outputs": [
    {
     "name": "stdout",
     "output_type": "stream",
     "text": [
      "You set a new current directory\n"
     ]
    }
   ],
   "source": [
    "os.chdir(os.path.dirname(current_dir))\n",
    "print(\"You set a new current directory\")"
   ]
  },
  {
   "cell_type": "code",
   "execution_count": 3,
   "id": "5557fcd1",
   "metadata": {},
   "outputs": [
    {
     "data": {
      "text/plain": [
       "'c:\\\\Users\\\\husse\\\\OneDrive\\\\Projects\\\\lang-level-pred'"
      ]
     },
     "execution_count": 3,
     "metadata": {},
     "output_type": "execute_result"
    }
   ],
   "source": [
    "import os\n",
    "current_dir = os.getcwd()\n",
    "current_dir"
   ]
  },
  {
   "cell_type": "markdown",
   "id": "e649ac6c",
   "metadata": {},
   "source": [
    "## Download dataset from github\n",
    "\n",
    "The following tasks are performed below:\n",
    "- a new folder called 'data/raw' is created to store files\n",
    "- fetches the dataset from github\n",
    "- Checks if the download worked correctly\n",
    "- Opens the downloaded file and removes any temporary files when done"
   ]
  },
  {
   "cell_type": "code",
   "execution_count": 4,
   "id": "e901bb06",
   "metadata": {},
   "outputs": [],
   "source": [
    "import requests, os, zipfile\n",
    "\n",
    "# Create data folder\n",
    "os.makedirs(\"data/raw\", exist_ok=True)\n",
    "\n",
    "# Define download path\n",
    "zip_url = \"https://raw.githubusercontent.com/Ilyas355/language-proficiency-dataset/main/lang_proficiency_results_raw.zip\"\n",
    "zip_path = \"data/raw/lang_proficiency_results_raw.zip\"\n",
    "\n",
    "# Download the file\n",
    "response = requests.get(zip_url)\n",
    "with open(zip_path, \"wb\") as f:\n",
    "    f.write(response.content)\n",
    "\n",
    "# Unzip the contents\n",
    "with zipfile.ZipFile(zip_path, 'r') as zip_ref:\n",
    "    zip_ref.extractall(\"data/raw\")\n",
    "\n",
    "# Delete the zip file if you want\n",
    "os.remove(zip_path)"
   ]
  },
  {
   "cell_type": "markdown",
   "id": "e9992fa2",
   "metadata": {},
   "source": [
    "---"
   ]
  },
  {
   "cell_type": "markdown",
   "id": "714f6172",
   "metadata": {},
   "source": [
    "# Data loading and basic exploration\n",
    "This code block imports fundamental Python libraries for data analysis and visualization and checks their versions\n",
    "\n",
    "- pandas: For data manipulation and analysis\n",
    "- numpy: For numerical computations\n",
    "- matplotlib: For creating visualizations and plots\n",
    "\n",
    "The version checks help ensure:\n",
    "- Code compatibility across different environments\n",
    "- Reproducibility of analysis\n",
    "- Easy debugging of version-specific issues"
   ]
  },
  {
   "cell_type": "code",
   "execution_count": 6,
   "id": "2f19b10a",
   "metadata": {},
   "outputs": [
    {
     "name": "stdout",
     "output_type": "stream",
     "text": [
      "pandas version: 2.3.1\n",
      "NumPy version: 2.3.1\n",
      "matplotlib version: 3.10.5\n"
     ]
    }
   ],
   "source": [
    "# Import data analysis tools\n",
    "import pandas as pd\n",
    "import numpy as np\n",
    "import matplotlib\n",
    "import matplotlib.pyplot as plt\n",
    "\n",
    "\n",
    "print(f\"pandas version: {pd.__version__}\")\n",
    "print(f\"NumPy version: {np.__version__}\")\n",
    "print(f\"matplotlib version: {matplotlib.__version__}\")\n"
   ]
  },
  {
   "cell_type": "markdown",
   "id": "9a37b69e",
   "metadata": {},
   "source": [
    "### List Files and Folders\n",
    "This code shows what files and folders are in our data folder"
   ]
  },
  {
   "cell_type": "code",
   "execution_count": 7,
   "id": "9e046e58",
   "metadata": {},
   "outputs": [
    {
     "name": "stdout",
     "output_type": "stream",
     "text": [
      "[INFO] Files/folders available in data\\raw:\n"
     ]
    },
    {
     "data": {
      "text/plain": [
       "['lang_proficiency_results_raw.csv']"
      ]
     },
     "execution_count": 7,
     "metadata": {},
     "output_type": "execute_result"
    }
   ],
   "source": [
    "import os\n",
    "from pathlib import Path\n",
    "\n",
    "dataset_dir = Path(\"data/raw\")\n",
    "print(f\"[INFO] Files/folders available in {dataset_dir}:\")\n",
    "os.listdir(dataset_dir)"
   ]
  },
  {
   "cell_type": "markdown",
   "id": "ee7c91a4",
   "metadata": {},
   "source": [
    "## Load dataset\n",
    "This code loads the dataset that is then displayed in the dataframe."
   ]
  },
  {
   "cell_type": "code",
   "execution_count": 8,
   "id": "6c9bba5f",
   "metadata": {},
   "outputs": [],
   "source": [
    "import pandas as pd\n",
    "from pathlib import Path\n",
    "\n",
    "# Define the path to the CSV file\n",
    "file_path = Path(\"data/raw/lang_proficiency_results_raw.csv\")\n",
    "\n",
    "# Read the CSV file\n",
    "df = pd.read_csv(file_path)"
   ]
  },
  {
   "cell_type": "markdown",
   "id": "109ab328",
   "metadata": {},
   "source": []
  }
 ],
 "metadata": {
  "kernelspec": {
   "display_name": ".venv",
   "language": "python",
   "name": "python3"
  },
  "language_info": {
   "codemirror_mode": {
    "name": "ipython",
    "version": 3
   },
   "file_extension": ".py",
   "mimetype": "text/x-python",
   "name": "python",
   "nbconvert_exporter": "python",
   "pygments_lexer": "ipython3",
   "version": "3.13.2"
  }
 },
 "nbformat": 4,
 "nbformat_minor": 5
}

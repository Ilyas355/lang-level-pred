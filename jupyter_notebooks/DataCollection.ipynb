{
 "cells": [
  {
   "cell_type": "markdown",
   "id": "daedf649",
   "metadata": {},
   "source": [
    "# 01. Data Collection and Initial Exploration\n",
    "*This notebook focuses on getting the data into a usable format and performing basic exploration.*"
   ]
  },
  {
   "cell_type": "markdown",
   "id": "cf285d2e",
   "metadata": {},
   "source": [
    "## Objectives\n",
    "- *Load language proficiency test result dataset from a publicly accessible source.*\n",
    "- *To ensure the dataset is stored securely within the project's directory structure.*\n",
    "- *To prepare the data for subsequent preprocessing and analysis steps.*\n",
    "- *To document the origin and relevance of the dataset in the context of the project.*\n",
    "## Inputs\n",
    "- *A locally stored CSV file: user_test_results.csv*\n",
    "- *Python libraries: pandas, os, pathlib*\n",
    "- *Access to the project directory (no external download or API required)*\n",
    "\n",
    "## Outputs\n",
    "- *Loaded dataset displayed and summarized within the notebook.*\n",
    "- *CSV file stored or confirmed under outputs/datasets/collection/*\n",
    "\n",
    "## Additional information\n",
    "- *For this project, the dataset was manually compiled and saved locally as user_test_results.csv.*\n",
    "- *This CSV file represents a realistic and controlled input format, commonly used in practical ML workflows where datasets originate from in-house systems or proprietary sources.*\n",
    "- *Although it is not downloaded from a public endpoint, this approach reflects common industry practice and satisfies the data collection requirements of this project.*\n"
   ]
  },
  {
   "cell_type": "markdown",
   "id": "c66e99be",
   "metadata": {},
   "source": [
    "***"
   ]
  },
  {
   "cell_type": "markdown",
   "id": "2785c239",
   "metadata": {},
   "source": []
  }
 ],
 "metadata": {
  "language_info": {
   "name": "python"
  }
 },
 "nbformat": 4,
 "nbformat_minor": 5
}

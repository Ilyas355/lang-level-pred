{
 "cells": [
  {
   "cell_type": "markdown",
   "id": "5ac1e497",
   "metadata": {},
   "source": [
    "# 03. Exploratory Data Analysis"
   ]
  },
  {
   "cell_type": "markdown",
   "id": "697cd79d",
   "metadata": {},
   "source": [
    "## Objectives\n",
    "\n",
    "- Perform exploratory analysis of the cleaned tabular dataset\n",
    "- Generate descriptive statistics and visual summaries of language proficiency scores\n",
    "- Identify correlations and relationships between different test components\n",
    "- Highlight trends, anomalies, and patterns relevant to CEFR classification and modelling\n",
    "\n",
    "## Inputs\n",
    "\n",
    "- Cleaned dataset from the Data Cleaning phase (data/processed/lang_proficiency_results.csv)\n",
    "- Python libraries: pandas, numpy, matplotlib, seaborn, pandas_profiling (optional)\n",
    "\n",
    "## Outputs\n",
    "\n",
    "- Pandas profiling report or equivalent descriptive overview\n",
    "- Correlation analysis (correlation heatmap, pair plots, or PPS study)\n",
    "- Visualisations of score distributions, relationships, and CEFR class balance\n",
    "- Written insights to inform feature engineering and modelling steps\n",
    "\n",
    "\n",
    "## Additional information\n",
    "\n",
    "- All plots will be interpreted in context with the business requirements\n",
    "- Correlations and visual insights will help define predictive features for ML\n",
    "- Any unusual patterns identified here may prompt refinement of cleaning or feature engineering\n"
   ]
  },
  {
   "cell_type": "markdown",
   "id": "1424f59c",
   "metadata": {},
   "source": [
    "---"
   ]
  },
  {
   "cell_type": "markdown",
   "id": "81aee012",
   "metadata": {},
   "source": [
    "# Project Directory Structure"
   ]
  },
  {
   "cell_type": "markdown",
   "id": "da64e180",
   "metadata": {},
   "source": [
    "## Change working directory\n",
    "\n",
    "We need to change the working directory from its current folder to the folder the code of this project is currently located"
   ]
  },
  {
   "cell_type": "code",
   "execution_count": 1,
   "id": "0424f812",
   "metadata": {},
   "outputs": [
    {
     "data": {
      "text/plain": [
       "'c:\\\\Users\\\\husse\\\\OneDrive\\\\Projects\\\\lang-level-pred\\\\jupyter_notebooks'"
      ]
     },
     "execution_count": 1,
     "metadata": {},
     "output_type": "execute_result"
    }
   ],
   "source": [
    "import os\n",
    "current_dir = os.getcwd()\n",
    "current_dir"
   ]
  },
  {
   "cell_type": "code",
   "execution_count": 2,
   "id": "4d906c64",
   "metadata": {},
   "outputs": [
    {
     "name": "stdout",
     "output_type": "stream",
     "text": [
      "Working directory: c:\\Users\\husse\\OneDrive\\Projects\\lang-level-pred\n"
     ]
    }
   ],
   "source": [
    "from pathlib import Path\n",
    "\n",
    "# swtich to project root directory\n",
    "project_root = Path.cwd().parent\n",
    "os.chdir(project_root)\n",
    "print(f\"Working directory: {os.getcwd()}\")"
   ]
  },
  {
   "cell_type": "markdown",
   "id": "082af467",
   "metadata": {},
   "source": [
    "---"
   ]
  },
  {
   "cell_type": "markdown",
   "id": "22ce5b18",
   "metadata": {},
   "source": [
    "# Data loading and basic exploration\n",
    "This code block imports fundamental Python libraries for data analysis and visualization and checks their versions\n",
    "\n",
    "- pandas: For data manipulation and analysis\n",
    "- numpy: For numerical computations\n",
    "- matplotlib: For creating visualizations and plots\n",
    "\n",
    "The version checks help ensure:\n",
    "- Code compatibility across different environments\n",
    "- Reproducibility of analysis\n",
    "- Easy debugging of version-specific issues"
   ]
  },
  {
   "cell_type": "code",
   "execution_count": 3,
   "id": "2887acef",
   "metadata": {},
   "outputs": [
    {
     "name": "stdout",
     "output_type": "stream",
     "text": [
      "pandas version: 2.3.1\n",
      "NumPy version: 2.3.1\n",
      "matplotlib version: 3.10.5\n"
     ]
    }
   ],
   "source": [
    "# Import data analysis tools\n",
    "import pandas as pd\n",
    "import numpy as np\n",
    "import matplotlib\n",
    "import matplotlib.pyplot as plt\n",
    "\n",
    "\n",
    "print(f\"pandas version: {pd.__version__}\")\n",
    "print(f\"NumPy version: {np.__version__}\")\n",
    "print(f\"matplotlib version: {matplotlib.__version__}\")"
   ]
  }
 ],
 "metadata": {
  "kernelspec": {
   "display_name": ".venv",
   "language": "python",
   "name": "python3"
  },
  "language_info": {
   "codemirror_mode": {
    "name": "ipython",
    "version": 3
   },
   "file_extension": ".py",
   "mimetype": "text/x-python",
   "name": "python",
   "nbconvert_exporter": "python",
   "pygments_lexer": "ipython3",
   "version": "3.13.2"
  }
 },
 "nbformat": 4,
 "nbformat_minor": 5
}

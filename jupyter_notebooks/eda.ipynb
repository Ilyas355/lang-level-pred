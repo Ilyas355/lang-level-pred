{
 "cells": [
  {
   "cell_type": "markdown",
   "id": "5ac1e497",
   "metadata": {},
   "source": [
    "# 03. Exploratory Data Analysis"
   ]
  },
  {
   "cell_type": "markdown",
   "id": "697cd79d",
   "metadata": {},
   "source": [
    "## Objectives\n",
    "\n",
    "- Perform exploratory analysis of the cleaned tabular dataset\n",
    "- Generate descriptive statistics and visual summaries of language proficiency scores\n",
    "- Identify correlations and relationships between different test components\n",
    "- Highlight trends, anomalies, and patterns relevant to CEFR classification and modelling\n",
    "\n",
    "## Inputs\n",
    "\n",
    "- Cleaned dataset from the Data Cleaning phase (data/processed/lang_proficiency_results.csv)\n",
    "- Python libraries: pandas, numpy, matplotlib, seaborn, pandas_profiling (optional)\n",
    "\n",
    "## Outputs\n",
    "\n",
    "- Pandas profiling report or equivalent descriptive overview\n",
    "- Correlation analysis (correlation heatmap, pair plots, or PPS study)\n",
    "- Visualisations of score distributions, relationships, and CEFR class balance\n",
    "- Written insights to inform feature engineering and modelling steps\n",
    "\n",
    "\n",
    "## Additional information\n",
    "\n",
    "- All plots will be interpreted in context with the business requirements\n",
    "- Correlations and visual insights will help define predictive features for ML\n",
    "- Any unusual patterns identified here may prompt refinement of cleaning or feature engineering\n"
   ]
  },
  {
   "cell_type": "markdown",
   "id": "1424f59c",
   "metadata": {},
   "source": [
    "---"
   ]
  },
  {
   "cell_type": "markdown",
   "id": "81aee012",
   "metadata": {},
   "source": [
    "# Project Directory Structure"
   ]
  },
  {
   "cell_type": "markdown",
   "id": "da64e180",
   "metadata": {},
   "source": [
    "## Change working directory\n",
    "\n",
    "We need to change the working directory from its current folder to the folder the code of this project is currently located"
   ]
  },
  {
   "cell_type": "code",
   "execution_count": 3,
   "id": "0424f812",
   "metadata": {},
   "outputs": [
    {
     "data": {
      "text/plain": [
       "'c:\\\\Users\\\\husse\\\\OneDrive\\\\Projects\\\\lang-level-pred\\\\jupyter_notebooks'"
      ]
     },
     "execution_count": 3,
     "metadata": {},
     "output_type": "execute_result"
    }
   ],
   "source": [
    "import os\n",
    "current_dir = os.getcwd()\n",
    "current_dir"
   ]
  },
  {
   "cell_type": "code",
   "execution_count": 4,
   "id": "4d906c64",
   "metadata": {},
   "outputs": [
    {
     "name": "stdout",
     "output_type": "stream",
     "text": [
      "Working directory: c:\\Users\\husse\\OneDrive\\Projects\\lang-level-pred\n"
     ]
    }
   ],
   "source": [
    "from pathlib import Path\n",
    "\n",
    "# swtich to project root directory\n",
    "project_root = Path.cwd().parent\n",
    "os.chdir(project_root)\n",
    "print(f\"Working directory: {os.getcwd()}\")"
   ]
  },
  {
   "cell_type": "markdown",
   "id": "082af467",
   "metadata": {},
   "source": [
    "---"
   ]
  },
  {
   "cell_type": "markdown",
   "id": "22ce5b18",
   "metadata": {},
   "source": [
    "# Data loading and basic exploration\n",
    "This code block imports fundamental Python libraries for data analysis and visualization and checks their versions\n",
    "\n",
    "- pandas: For data manipulation and analysis\n",
    "- numpy: For numerical computations\n",
    "- matplotlib: For creating visualizations and plots\n",
    "\n",
    "The version checks help ensure:\n",
    "- Code compatibility across different environments\n",
    "- Reproducibility of analysis\n",
    "- Easy debugging of version-specific issues"
   ]
  },
  {
   "cell_type": "code",
   "execution_count": 23,
   "id": "2887acef",
   "metadata": {},
   "outputs": [
    {
     "name": "stdout",
     "output_type": "stream",
     "text": [
      "pandas version: 2.3.1\n",
      "NumPy version: 2.3.1\n",
      "matplotlib version: 3.10.5\n",
      "seaborn version: 0.13.2\n"
     ]
    }
   ],
   "source": [
    "# Import data analysis tools\n",
    "import pandas as pd\n",
    "import numpy as np\n",
    "import matplotlib\n",
    "import matplotlib.pyplot as plt\n",
    "import seaborn as sns\n",
    "\n",
    "\n",
    "print(f\"pandas version: {pd.__version__}\")\n",
    "print(f\"NumPy version: {np.__version__}\")\n",
    "print(f\"matplotlib version: {matplotlib.__version__}\")\n",
    "print(f\"seaborn version: {sns.__version__}\")"
   ]
  },
  {
   "cell_type": "markdown",
   "id": "86ba1a10",
   "metadata": {},
   "source": [
    "### List Files and Folders\n",
    "- This code shows what files and folders are in our data/clean folder and what folder we are currently in. "
   ]
  },
  {
   "cell_type": "code",
   "execution_count": 6,
   "id": "7a5cc37a",
   "metadata": {},
   "outputs": [
    {
     "name": "stdout",
     "output_type": "stream",
     "text": [
      "[INFO] Files/folders available in data\\clean:\n"
     ]
    },
    {
     "data": {
      "text/plain": [
       "['cleaned_lang_proficiency_results.csv']"
      ]
     },
     "execution_count": 6,
     "metadata": {},
     "output_type": "execute_result"
    }
   ],
   "source": [
    "import os\n",
    "from pathlib import Path\n",
    "\n",
    "dataset_dir = Path(\"data/clean\")\n",
    "print(f\"[INFO] Files/folders available in {dataset_dir}:\")\n",
    "os.listdir(dataset_dir)"
   ]
  },
  {
   "cell_type": "markdown",
   "id": "b53f74b9",
   "metadata": {},
   "source": [
    "## Load dataset\n",
    "This code loads the dataset from the data/clean folder that is then displayed in the dataframe."
   ]
  },
  {
   "cell_type": "code",
   "execution_count": 7,
   "id": "0169d9ea",
   "metadata": {},
   "outputs": [],
   "source": [
    "import pandas as pd\n",
    "from pathlib import Path\n",
    "\n",
    "# Define the path to the CSV file\n",
    "file_path = Path(\"data/clean/cleaned_lang_proficiency_results.csv\")\n",
    "\n",
    "# Read the CSV file\n",
    "df = pd.read_csv(file_path)"
   ]
  },
  {
   "cell_type": "markdown",
   "id": "85a5cd7b",
   "metadata": {},
   "source": [
    "---"
   ]
  },
  {
   "cell_type": "markdown",
   "id": "e102228f",
   "metadata": {},
   "source": [
    "## 1. Dataset Overview\n",
    "Before diving into detailed analysis, we first generate a high-level overview of the dataset.  \n",
    "This includes:\n",
    "- The number of rows and columns.  \n",
    "- A summary of missing values and duplicate entries (to validate cleaning).  \n",
    "- Descriptive statistics for numerical columns.\n",
    "\n",
    "This step ensures that the dataset is consistent, clean, and ready for deeper exploratory analysis."
   ]
  },
  {
   "cell_type": "code",
   "execution_count": 21,
   "id": "fa2b7051",
   "metadata": {},
   "outputs": [
    {
     "name": "stdout",
     "output_type": "stream",
     "text": [
      "Shape of dataset: (1004, 5)\n",
      "\n",
      "Data types and non-null counts:\n",
      "<class 'pandas.core.frame.DataFrame'>\n",
      "RangeIndex: 1004 entries, 0 to 1003\n",
      "Data columns (total 5 columns):\n",
      " #   Column           Non-Null Count  Dtype \n",
      "---  ------           --------------  ----- \n",
      " 0   speaking_score   1004 non-null   int64 \n",
      " 1   reading_score    1004 non-null   int64 \n",
      " 2   listening_score  1004 non-null   int64 \n",
      " 3   writing_score    1004 non-null   int64 \n",
      " 4   overall_cefr     1004 non-null   object\n",
      "dtypes: int64(4), object(1)\n",
      "memory usage: 39.3+ KB\n"
     ]
    },
    {
     "data": {
      "text/plain": [
       "None"
      ]
     },
     "metadata": {},
     "output_type": "display_data"
    },
    {
     "name": "stdout",
     "output_type": "stream",
     "text": [
      "\n",
      "\n"
     ]
    },
    {
     "data": {
      "text/html": [
       "<div>\n",
       "<style scoped>\n",
       "    .dataframe tbody tr th:only-of-type {\n",
       "        vertical-align: middle;\n",
       "    }\n",
       "\n",
       "    .dataframe tbody tr th {\n",
       "        vertical-align: top;\n",
       "    }\n",
       "\n",
       "    .dataframe thead th {\n",
       "        text-align: right;\n",
       "    }\n",
       "</style>\n",
       "<table border=\"1\" class=\"dataframe\">\n",
       "  <thead>\n",
       "    <tr style=\"text-align: right;\">\n",
       "      <th></th>\n",
       "      <th>speaking_score</th>\n",
       "      <th>reading_score</th>\n",
       "      <th>listening_score</th>\n",
       "      <th>writing_score</th>\n",
       "      <th>overall_cefr</th>\n",
       "    </tr>\n",
       "  </thead>\n",
       "  <tbody>\n",
       "    <tr>\n",
       "      <th>0</th>\n",
       "      <td>24</td>\n",
       "      <td>38</td>\n",
       "      <td>30</td>\n",
       "      <td>34</td>\n",
       "      <td>A1</td>\n",
       "    </tr>\n",
       "    <tr>\n",
       "      <th>1</th>\n",
       "      <td>93</td>\n",
       "      <td>91</td>\n",
       "      <td>90</td>\n",
       "      <td>89</td>\n",
       "      <td>C1</td>\n",
       "    </tr>\n",
       "    <tr>\n",
       "      <th>2</th>\n",
       "      <td>62</td>\n",
       "      <td>64</td>\n",
       "      <td>64</td>\n",
       "      <td>55</td>\n",
       "      <td>B1</td>\n",
       "    </tr>\n",
       "    <tr>\n",
       "      <th>3</th>\n",
       "      <td>63</td>\n",
       "      <td>59</td>\n",
       "      <td>54</td>\n",
       "      <td>54</td>\n",
       "      <td>B1</td>\n",
       "    </tr>\n",
       "    <tr>\n",
       "      <th>4</th>\n",
       "      <td>79</td>\n",
       "      <td>74</td>\n",
       "      <td>85</td>\n",
       "      <td>79</td>\n",
       "      <td>B2</td>\n",
       "    </tr>\n",
       "  </tbody>\n",
       "</table>\n",
       "</div>"
      ],
      "text/plain": [
       "   speaking_score  reading_score  listening_score  writing_score overall_cefr\n",
       "0              24             38               30             34           A1\n",
       "1              93             91               90             89           C1\n",
       "2              62             64               64             55           B1\n",
       "3              63             59               54             54           B1\n",
       "4              79             74               85             79           B2"
      ]
     },
     "metadata": {},
     "output_type": "display_data"
    },
    {
     "name": "stdout",
     "output_type": "stream",
     "text": [
      "\n",
      "\n"
     ]
    },
    {
     "data": {
      "text/html": [
       "<div>\n",
       "<style scoped>\n",
       "    .dataframe tbody tr th:only-of-type {\n",
       "        vertical-align: middle;\n",
       "    }\n",
       "\n",
       "    .dataframe tbody tr th {\n",
       "        vertical-align: top;\n",
       "    }\n",
       "\n",
       "    .dataframe thead th {\n",
       "        text-align: right;\n",
       "    }\n",
       "</style>\n",
       "<table border=\"1\" class=\"dataframe\">\n",
       "  <thead>\n",
       "    <tr style=\"text-align: right;\">\n",
       "      <th></th>\n",
       "      <th>speaking_score</th>\n",
       "      <th>reading_score</th>\n",
       "      <th>listening_score</th>\n",
       "      <th>writing_score</th>\n",
       "    </tr>\n",
       "  </thead>\n",
       "  <tbody>\n",
       "    <tr>\n",
       "      <th>count</th>\n",
       "      <td>1004.000000</td>\n",
       "      <td>1004.000000</td>\n",
       "      <td>1004.000000</td>\n",
       "      <td>1004.000000</td>\n",
       "    </tr>\n",
       "    <tr>\n",
       "      <th>mean</th>\n",
       "      <td>61.128486</td>\n",
       "      <td>61.130478</td>\n",
       "      <td>61.176295</td>\n",
       "      <td>60.955179</td>\n",
       "    </tr>\n",
       "    <tr>\n",
       "      <th>std</th>\n",
       "      <td>21.245806</td>\n",
       "      <td>21.447841</td>\n",
       "      <td>21.411456</td>\n",
       "      <td>21.218819</td>\n",
       "    </tr>\n",
       "    <tr>\n",
       "      <th>min</th>\n",
       "      <td>23.000000</td>\n",
       "      <td>23.000000</td>\n",
       "      <td>23.000000</td>\n",
       "      <td>23.000000</td>\n",
       "    </tr>\n",
       "    <tr>\n",
       "      <th>25%</th>\n",
       "      <td>43.000000</td>\n",
       "      <td>43.000000</td>\n",
       "      <td>42.000000</td>\n",
       "      <td>43.000000</td>\n",
       "    </tr>\n",
       "    <tr>\n",
       "      <th>50%</th>\n",
       "      <td>60.500000</td>\n",
       "      <td>61.000000</td>\n",
       "      <td>60.000000</td>\n",
       "      <td>60.000000</td>\n",
       "    </tr>\n",
       "    <tr>\n",
       "      <th>75%</th>\n",
       "      <td>78.000000</td>\n",
       "      <td>79.000000</td>\n",
       "      <td>80.000000</td>\n",
       "      <td>79.250000</td>\n",
       "    </tr>\n",
       "    <tr>\n",
       "      <th>max</th>\n",
       "      <td>100.000000</td>\n",
       "      <td>100.000000</td>\n",
       "      <td>100.000000</td>\n",
       "      <td>100.000000</td>\n",
       "    </tr>\n",
       "  </tbody>\n",
       "</table>\n",
       "</div>"
      ],
      "text/plain": [
       "       speaking_score  reading_score  listening_score  writing_score\n",
       "count     1004.000000    1004.000000      1004.000000    1004.000000\n",
       "mean        61.128486      61.130478        61.176295      60.955179\n",
       "std         21.245806      21.447841        21.411456      21.218819\n",
       "min         23.000000      23.000000        23.000000      23.000000\n",
       "25%         43.000000      43.000000        42.000000      43.000000\n",
       "50%         60.500000      61.000000        60.000000      60.000000\n",
       "75%         78.000000      79.000000        80.000000      79.250000\n",
       "max        100.000000     100.000000       100.000000     100.000000"
      ]
     },
     "metadata": {},
     "output_type": "display_data"
    },
    {
     "name": "stdout",
     "output_type": "stream",
     "text": [
      "\n",
      "\n",
      "\n",
      "Missing values per column:\n"
     ]
    },
    {
     "data": {
      "text/plain": [
       "speaking_score     0\n",
       "reading_score      0\n",
       "listening_score    0\n",
       "writing_score      0\n",
       "overall_cefr       0\n",
       "dtype: int64"
      ]
     },
     "metadata": {},
     "output_type": "display_data"
    },
    {
     "name": "stdout",
     "output_type": "stream",
     "text": [
      "\n",
      "Number of duplicate rows: 0\n"
     ]
    }
   ],
   "source": [
    "# Basic dataset info\n",
    "print(\"Shape of dataset:\", df.shape)\n",
    "print(\"\\nData types and non-null counts:\")\n",
    "display(df.info())\n",
    "print(\"\\n\")\n",
    "\n",
    "# Quick look at the first few rows\n",
    "display(df.head())\n",
    "print(\"\\n\")\n",
    "\n",
    "# Summary statistics\n",
    "display(df.describe())\n",
    "print(\"\\n\")\n",
    "\n",
    "# Missing values summary\n",
    "print(\"\\nMissing values per column:\")\n",
    "display(df.isna().sum())\n",
    "\n",
    "# Duplicate check\n",
    "print(\"\\nNumber of duplicate rows:\", df.duplicated().sum())"
   ]
  },
  {
   "cell_type": "markdown",
   "id": "5a19e1f9",
   "metadata": {},
   "source": [
    "## 2. Distribution of Numerical Features\n",
    "We plot histograms for numerical columns to understand their distributions."
   ]
  },
  {
   "cell_type": "code",
   "execution_count": 22,
   "id": "7ced3003",
   "metadata": {},
   "outputs": [
    {
     "data": {
      "image/png": "[encoded data removed]",
      "text/plain": [
       "<Figure size 1500x1000 with 4 Axes>"
      ]
     },
     "metadata": {},
     "output_type": "display_data"
    }
   ],
   "source": [
    "num_cols = df.select_dtypes(include=['float64', 'int64']).columns\n",
    "\n",
    "df[num_cols].hist(bins=20, figsize=(15, 10))\n",
    "plt.suptitle(\"Distribution of Numerical Features\", fontsize=16)\n",
    "plt.show()"
   ]
  },
  {
   "cell_type": "markdown",
   "id": "59b48422",
   "metadata": {},
   "source": [
    "**Insights:**  \n",
    "- All four score distributions (speaking, reading, listening, writing) span a wide range (20–100), showing that the dataset covers learners across multiple proficiency levels.  \n",
    "- The distributions are relatively uniform, with no extreme skewness, suggesting that the dataset is balanced enough for modelling without major transformations.  \n",
    "- Small dips and peaks in certain score ranges (e.g., around 40 and 70) may indicate differences in learner performance patterns.  \n",
    "- From a business perspective, this spread is valuable because it ensures the CEFR prediction model will be trained on learners from beginner (A1) through advanced (C2), making the automated classification more generalisable."
   ]
  },
  {
   "cell_type": "markdown",
   "id": "91fba095",
   "metadata": {},
   "source": [
    "## 3. Distribution of Categorical Features\n",
    "We explore frequency counts for categorical variables (e.g., CEFR levels)."
   ]
  },
  {
   "cell_type": "code",
   "execution_count": 24,
   "id": "e5ae2661",
   "metadata": {},
   "outputs": [
    {
     "data": {
      "image/png": "[encoded data removed]",
      "text/plain": [
       "<Figure size 600x400 with 1 Axes>"
      ]
     },
     "metadata": {},
     "output_type": "display_data"
    }
   ],
   "source": [
    "cat_cols = df.select_dtypes(include=['object']).columns\n",
    "\n",
    "for col in cat_cols:\n",
    "    plt.figure(figsize=(6,4))\n",
    "    sns.countplot(x=df[col], order=df[col].value_counts().index)\n",
    "    plt.title(f\"Distribution of {col}\")\n",
    "    plt.xticks(rotation=45)\n",
    "    plt.show()"
   ]
  },
  {
   "cell_type": "markdown",
   "id": "4a9b9df1",
   "metadata": {},
   "source": [
    "### Insights from CEFR Distribution\n",
    "\n",
    "1. **Balanced but slightly skewed distribution**  \n",
    "   - The dataset is fairly balanced overall, with the **mid-levels (A1–B2)** having the highest counts (≈190–220 each).  \n",
    "   - The **extremes (C1, C2)** are underrepresented, each with fewer than 100 learners.  \n",
    "\n",
    "2. **Data sufficiency for modeling**  \n",
    "   - Most classes have ~200 samples, which is sufficient for supervised classification.  \n",
    "   - The imbalance at higher proficiency levels (C1, C2) may cause models to underperform for those classes unless addressed (e.g., stratified splits, class weights, or oversampling techniques like SMOTE).  \n",
    "\n",
    "3. **Learning progression pattern**  \n",
    "   - The pyramid-like distribution aligns with real-world language learning, where most learners fall into beginner-to-intermediate levels (A1–B2), and fewer reach advanced proficiency (C1, C2).  \n",
    "   - This realistic distribution enhances the dataset’s validity.  \n",
    "\n",
    "4. **Implications for ML tasks**  \n",
    "   - **Stratified train-test split** should be used to preserve class balance during training.  \n",
    "   - Evaluation should include metrics like **macro F1** or **balanced accuracy** rather than relying solely on accuracy, to ensure fair performance across underrepresented classes.  \n"
   ]
  }
 ],
 "metadata": {
  "kernelspec": {
   "display_name": ".venv",
   "language": "python",
   "name": "python3"
  },
  "language_info": {
   "codemirror_mode": {
    "name": "ipython",
    "version": 3
   },
   "file_extension": ".py",
   "mimetype": "text/x-python",
   "name": "python",
   "nbconvert_exporter": "python",
   "pygments_lexer": "ipython3",
   "version": "3.13.2"
  }
 },
 "nbformat": 4,
 "nbformat_minor": 5
}

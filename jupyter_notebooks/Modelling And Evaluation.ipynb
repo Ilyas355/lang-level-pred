{
 "cells": [
  {
   "cell_type": "markdown",
   "id": "6ebf79c1",
   "metadata": {},
   "source": [
    "# 05. Modelling and evaluation"
   ]
  },
  {
   "cell_type": "markdown",
   "id": "99ac5cb3",
   "metadata": {},
   "source": [
    "## Objectives\n",
    "\n",
    "The purpose of this notebook is to train, evaluate, and interpret machine learning models that predict **CEFR levels** based on learners’ engineered features. Specifically, we aim to:\n",
    "\n",
    "- Train classification models using the processed dataset (numeric + encoded categorical features).  \n",
    "- Compare performance across multiple algorithms (e.g., Logistic Regression, Random Forest, Gradient Boosting).  \n",
    "- Evaluate models using accuracy, precision, recall, F1-score, and confusion matrices to assess reliability.  \n",
    "- Apply hyperparameter tuning and model refinement to improve predictive performance.  \n",
    "- Select the best-performing model for deployment and integration into a personalized recommendation system.  \n",
    "- Save the trained model and evaluation results for reproducibility and downstream use.  \n",
    "\n",
    "## Inputs\n",
    "\n",
    "- **Processed dataset**: `data/processed/features.csv`  \n",
    "  - Contains engineered features (e.g., strongest/weakest skill, skill variance, learning profile, relative differences).  \n",
    "  - Raw scores have been dropped to prevent data leakage.  \n",
    "- **Feature matrix (X)**: Scaled numeric features + encoded categorical engineered features.  \n",
    "- **Target vector (y)**: Encoded CEFR levels (A1–C2).  \n",
    "\n",
    "## Outputs\n",
    "\n",
    "- Baseline and advanced trained models.  \n",
    "- Evaluation metrics (accuracy, precision, recall, F1-score, confusion matrix).  \n",
    "- Visualizations of model performance and class distribution.  \n",
    "- Final selected model, serialized (e.g., `model.joblib`) for reuse.  \n",
    "- Documentation of why the chosen model best supports the **business goal** of automatic learner placement and personalized recommendations.  \n",
    "\n",
    "## Additional Information\n",
    "\n",
    "This stage directly addresses the **business requirement**: predicting learners’ CEFR levels to enable **automatic placement** and **tailored learning recommendations**.  \n",
    "Following the EDA and Feature Engineering steps, only engineered features are used to ensure models generalize fairly without memorizing exam scores.  \n",
    "By systematically comparing models, tuning hyperparameters, and interpreting feature impacts, we ensure predictions are **accurate, reliable, and explainable** — making them suitable for real-world integration into an adaptive learning platform.  "
   ]
  },
  {
   "cell_type": "markdown",
   "id": "a801c026",
   "metadata": {},
   "source": [
    "---"
   ]
  },
  {
   "cell_type": "markdown",
   "id": "a3eb9b54",
   "metadata": {},
   "source": [
    "# Project Directory Structure"
   ]
  },
  {
   "cell_type": "markdown",
   "id": "e7500c31",
   "metadata": {},
   "source": [
    "## Change working directory\n",
    "\n",
    "We need to change the working directory from its current folder to the folder the code of this project is currently located"
   ]
  },
  {
   "cell_type": "code",
   "execution_count": 1,
   "id": "849c2560",
   "metadata": {},
   "outputs": [
    {
     "data": {
      "text/plain": [
       "'c:\\\\Users\\\\husse\\\\OneDrive\\\\Projects\\\\lang-level-pred\\\\jupyter_notebooks'"
      ]
     },
     "execution_count": 1,
     "metadata": {},
     "output_type": "execute_result"
    }
   ],
   "source": [
    "import os\n",
    "current_dir = os.getcwd()\n",
    "current_dir"
   ]
  },
  {
   "cell_type": "code",
   "execution_count": 2,
   "id": "5a8bbf12",
   "metadata": {},
   "outputs": [
    {
     "name": "stdout",
     "output_type": "stream",
     "text": [
      "Working directory: c:\\Users\\husse\\OneDrive\\Projects\\lang-level-pred\n"
     ]
    }
   ],
   "source": [
    "from pathlib import Path\n",
    "\n",
    "# swtich to project root directory\n",
    "project_root = Path.cwd().parent\n",
    "os.chdir(project_root)\n",
    "print(f\"Working directory: {os.getcwd()}\")"
   ]
  },
  {
   "cell_type": "markdown",
   "id": "a0feac2c",
   "metadata": {},
   "source": [
    "---"
   ]
  },
  {
   "cell_type": "markdown",
   "id": "50cd7968",
   "metadata": {},
   "source": [
    "# Data loading\n",
    "This code block imports fundamental Python libraries for data analysis and visualization and checks their versions\n",
    "\n",
    "- pandas: For data manipulation and analysis\n",
    "- numpy: For numerical computations\n",
    "- matplotlib: For creating visualizations and plots\n",
    "- seaborn: creating attractive and informative statistical graphics from datasets\n",
    "\n",
    "The version checks help ensure:\n",
    "- Code compatibility across different environments\n",
    "- Reproducibility of analysis\n",
    "- Easy debugging of version-specific issues"
   ]
  },
  {
   "cell_type": "code",
   "execution_count": 3,
   "id": "1654478f",
   "metadata": {},
   "outputs": [
    {
     "name": "stdout",
     "output_type": "stream",
     "text": [
      "pandas version: 2.3.1\n",
      "NumPy version: 2.3.1\n",
      "matplotlib version: 3.10.5\n",
      "seaborn version: 0.13.2\n"
     ]
    }
   ],
   "source": [
    "# Import data analysis tools\n",
    "import pandas as pd\n",
    "import numpy as np\n",
    "import matplotlib\n",
    "import matplotlib.pyplot as plt\n",
    "import seaborn as sns\n",
    "\n",
    "\n",
    "print(f\"pandas version: {pd.__version__}\")\n",
    "print(f\"NumPy version: {np.__version__}\")\n",
    "print(f\"matplotlib version: {matplotlib.__version__}\")\n",
    "print(f\"seaborn version: {sns.__version__}\")"
   ]
  },
  {
   "cell_type": "markdown",
   "id": "97126b98",
   "metadata": {},
   "source": [
    "### List Files and Folders\n",
    "- This code shows what files and folders are in our data/clean folder and what folder we are currently in. "
   ]
  },
  {
   "cell_type": "code",
   "execution_count": 5,
   "id": "b1b6d4f3",
   "metadata": {},
   "outputs": [
    {
     "name": "stdout",
     "output_type": "stream",
     "text": [
      "[INFO] Files/folders available in data\\processed:\n"
     ]
    },
    {
     "data": {
      "text/plain": [
       "['features.csv', 'target.csv']"
      ]
     },
     "execution_count": 5,
     "metadata": {},
     "output_type": "execute_result"
    }
   ],
   "source": [
    "import os\n",
    "from pathlib import Path\n",
    "\n",
    "dataset_dir = Path(\"data/processed\")\n",
    "print(f\"[INFO] Files/folders available in {dataset_dir}:\")\n",
    "os.listdir(dataset_dir)"
   ]
  },
  {
   "cell_type": "markdown",
   "id": "9f631987",
   "metadata": {},
   "source": [
    "## Load Processed Data\n",
    "\n",
    "In this step, we will load the processed dataset that was prepared in the Feature Engineering Notebook.  \n",
    "The data has been saved in two separate files:\n",
    "\n",
    "- `features.csv` → contains the engineered and scaled features.  \n",
    "- `target.csv` → contains the encoded CEFR levels.  \n",
    "\n",
    "We will:\n",
    "- Load both files.  \n",
    "- Inspect their structure (rows, columns, datatypes).  \n",
    "- Confirm they align correctly (same number of rows).  \n",
    "- Prepare them as `X` (features) and `y` (target) for model training.    "
   ]
  },
  {
   "cell_type": "code",
   "execution_count": 177,
   "id": "12fcd570",
   "metadata": {},
   "outputs": [
    {
     "name": "stdout",
     "output_type": "stream",
     "text": [
      "Features shape: (1004, 14)\n",
      "Target shape: (1004,)\n",
      "\n",
      "Feature columns:\n",
      " ['strongest_skill', 'weakest_skill', 'second_weakest_skill', 'strength_weakness_gap', 'learning_profile', 'speaking_minus_avg', 'reading_minus_avg', 'listening_minus_avg', 'writing_minus_avg', 'productive_dominant', 'speaking_level', 'reading_level', 'listening_level', 'writing_level']\n",
      "\n",
      "Target preview:\n",
      " 0    0\n",
      "1    4\n",
      "2    2\n",
      "3    2\n",
      "4    3\n",
      "Name: cefr_encoded, dtype: int64\n",
      "✅ Features and target aligned correctly.\n"
     ]
    }
   ],
   "source": [
    "import pandas as pd\n",
    "\n",
    "# Load processed features and target\n",
    "X = pd.read_csv(\"data/processed/features.csv\")\n",
    "y = pd.read_csv(\"data/processed/target.csv\").squeeze()  # convert to Series\n",
    "\n",
    "# ✅ Drop avg_score from features\n",
    "if \"avg_score\" in X.columns:\n",
    "    X = X.drop(columns=[\"avg_score\"])\n",
    "\n",
    "# Inspect shapes\n",
    "print(\"Features shape:\", X.shape)\n",
    "print(\"Target shape:\", y.shape)\n",
    "\n",
    "# Preview\n",
    "print(\"\\nFeature columns:\\n\", X.columns.tolist())\n",
    "print(\"\\nTarget preview:\\n\", y.head())\n",
    "\n",
    "# Validate alignment\n",
    "assert X.shape[0] == y.shape[0], \"❌ Row mismatch between features and target!\"\n",
    "print(\"✅ Features and target aligned correctly.\")"
   ]
  },
  {
   "cell_type": "markdown",
   "id": "0bdf2016",
   "metadata": {},
   "source": [
    "---"
   ]
  },
  {
   "cell_type": "markdown",
   "id": "adf048b0",
   "metadata": {},
   "source": [
    "## 1. Define Features and Target\n",
    "\n",
    "Now that we have successfully loaded the processed dataset, we need to separate it into:\n",
    "\n",
    "- **X (features):** all engineered and scaled variables used by the model to make predictions.  \n",
    "- **y (target):** the encoded CEFR levels that the model will learn to predict.  \n",
    "\n",
    "We will confirm that both `X` and `y` are correctly structured and aligned before proceeding to train/test splitting."
   ]
  },
  {
   "cell_type": "code",
   "execution_count": 178,
   "id": "84b61bfd",
   "metadata": {},
   "outputs": [
    {
     "name": "stdout",
     "output_type": "stream",
     "text": [
      "Feature matrix (X):\n",
      "  strongest_skill weakest_skill second_weakest_skill  strength_weakness_gap  \\\n",
      "0         reading      speaking            listening               1.427690   \n",
      "1        speaking       writing            listening              -1.225282   \n",
      "2         reading       writing             speaking               0.101204   \n",
      "3        speaking     listening            listening               0.101204   \n",
      "4       listening       reading             speaking               0.631798   \n",
      "\n",
      "     learning_profile  speaking_minus_avg  reading_minus_avg  \\\n",
      "0  Uneven Development           -2.069500           1.751171   \n",
      "1            Balanced            0.609820           0.058795   \n",
      "2            Balanced            0.197617           0.735745   \n",
      "3            Balanced            1.502926           0.397270   \n",
      "4            Balanced           -0.077185          -1.430496   \n",
      "\n",
      "   listening_minus_avg  writing_minus_avg  productive_dominant speaking_level  \\\n",
      "0            -0.421848           0.720782            -0.895831       Beginner   \n",
      "1            -0.221437          -0.438501             1.116282       Advanced   \n",
      "2             0.713814          -1.665976            -0.895831   Intermediate   \n",
      "3            -0.956277          -0.915852             1.116282   Intermediate   \n",
      "4             1.515458          -0.029342            -0.895831       Advanced   \n",
      "\n",
      "  reading_level listening_level writing_level  \n",
      "0  Intermediate        Beginner  Intermediate  \n",
      "1      Advanced        Advanced      Advanced  \n",
      "2  Intermediate    Intermediate  Intermediate  \n",
      "3  Intermediate    Intermediate  Intermediate  \n",
      "4      Advanced        Advanced      Advanced  \n",
      "\n",
      "Target vector (y):\n",
      "0    0\n",
      "1    4\n",
      "2    2\n",
      "3    2\n",
      "4    3\n",
      "Name: cefr_encoded, dtype: int64\n",
      "\n",
      "Shapes:\n",
      "X: (1004, 14)\n",
      "y: (1004,)\n"
     ]
    }
   ],
   "source": [
    "# Confirm feature matrix (X) and target vector (y)\n",
    "\n",
    "print(\"Feature matrix (X):\")\n",
    "print(X.head())\n",
    "\n",
    "print(\"\\nTarget vector (y):\")\n",
    "print(y.head())\n",
    "\n",
    "print(\"\\nShapes:\")\n",
    "print(\"X:\", X.shape)\n",
    "print(\"y:\", y.shape)"
   ]
  },
  {
   "cell_type": "markdown",
   "id": "ee5bd628",
   "metadata": {},
   "source": [
    "## 2. Train/Test Split with One-Hot Encoding\n",
    "\n",
    "In this step, we:\n",
    "\n",
    "- Split the dataset into **training** and **testing** sets using stratified sampling to preserve the CEFR class distribution.  \n",
    "- Identified categorical engineered features:  \n",
    "  - `strongest_skill`  \n",
    "  - `weakest_skill`  \n",
    "  - `second_weakest_skill`  \n",
    "  - `learning_profile`  \n",
    "- Identified numeric engineered features:  \n",
    "  - `skill_std`  \n",
    "  - `strength_weakness_gap`  \n",
    "  - `productive_receptive_ratio`  \n",
    "  - `speaking_minus_avg`  \n",
    "  - `reading_minus_avg`  \n",
    "  - `listening_minus_avg`  \n",
    "  - `writing_minus_avg`  \n",
    "  - `speaking_to_reading`  \n",
    "  - `writing_to_listening`  \n",
    "- Applied **One-Hot Encoding (OHE)** to categorical variables (dropping the first category to avoid multicollinearity).  \n",
    "- Kept numeric features as-is (passthrough).  \n",
    "- Verified dataset sizes before and after preprocessing. "
   ]
  },
  {
   "cell_type": "code",
   "execution_count": 179,
   "id": "33359dfb",
   "metadata": {},
   "outputs": [
    {
     "name": "stdout",
     "output_type": "stream",
     "text": [
      "Categorical features: ['strongest_skill', 'weakest_skill', 'second_weakest_skill', 'learning_profile', 'reading_level', 'listening_level', 'speaking_level', 'writing_level']\n",
      "Numeric features: ['strength_weakness_gap', 'speaking_minus_avg', 'reading_minus_avg', 'listening_minus_avg', 'writing_minus_avg', 'productive_dominant']\n",
      "Training set size: (803, 14)\n",
      "Test set size: (201, 14)\n",
      "Processed training set shape: (803, 24)\n",
      "Processed test set shape: (201, 24)\n"
     ]
    }
   ],
   "source": [
    "from sklearn.model_selection import train_test_split\n",
    "from sklearn.preprocessing import OneHotEncoder\n",
    "from sklearn.compose import ColumnTransformer\n",
    "from sklearn.pipeline import Pipeline\n",
    "\n",
    "# Identify categorical and numeric features\n",
    "categorical_features = [\"strongest_skill\", \"weakest_skill\", \"second_weakest_skill\", \"learning_profile\", \"reading_level\", \"listening_level\", \"speaking_level\", \"writing_level\"]\n",
    "numeric_features = [col for col in X.columns if col not in categorical_features]\n",
    "\n",
    "print(\"Categorical features:\", categorical_features)\n",
    "print(\"Numeric features:\", numeric_features)\n",
    "\n",
    "# Define preprocessing: One-Hot Encode categorical features\n",
    "preprocessor = ColumnTransformer(\n",
    "    transformers=[\n",
    "        (\"cat\", OneHotEncoder(drop=\"first\"), categorical_features),\n",
    "        (\"num\", \"passthrough\", numeric_features)\n",
    "    ]\n",
    ")\n",
    "\n",
    "# Split the dataset (stratify ensures CEFR balance)\n",
    "X_train, X_test, y_train, y_test = train_test_split(\n",
    "    X, y, test_size=0.2, stratify=y, random_state=42\n",
    ")\n",
    "\n",
    "print(\"Training set size:\", X_train.shape)\n",
    "print(\"Test set size:\", X_test.shape)\n",
    "\n",
    "# Fit and transform training set, transform test set\n",
    "X_train_processed = preprocessor.fit_transform(X_train)\n",
    "X_test_processed = preprocessor.transform(X_test)\n",
    "\n",
    "print(\"Processed training set shape:\", X_train_processed.shape)\n",
    "print(\"Processed test set shape:\", X_test_processed.shape)"
   ]
  },
  {
   "cell_type": "markdown",
   "id": "7e4a9a0e",
   "metadata": {},
   "source": [
    "## 3. Model Training (Baseline)\n",
    "\n",
    "In this step, we will train an initial **baseline machine learning model** to predict the CEFR level.\n",
    "\n",
    "- **Why Logistic Regression?**  \n",
    "  Logistic Regression is a simple, interpretable classifier that works well as a starting point for multi-class classification. It provides a benchmark for accuracy and helps us understand whether more complex models are needed.\n",
    "\n",
    "- **Process:**\n",
    "  1. Use the preprocessed feature set (`X_train_processed`, `X_test_processed`).\n",
    "  2. Train a **Logistic Regression model** with multi-class handling (`multinomial`).\n",
    "  3. Evaluate performance on the test set using:\n",
    "     - Accuracy\n",
    "     - Classification report (precision, recall, F1-score per class)\n",
    "     - Confusion matrix (to visualize misclassifications)\n",
    "\n",
    "This baseline performance will serve as a reference point for future, more advanced models."
   ]
  },
  {
   "cell_type": "code",
   "execution_count": 188,
   "id": "ebd953e4",
   "metadata": {},
   "outputs": [
    {
     "name": "stdout",
     "output_type": "stream",
     "text": [
      "✅ Logistic Regression Baseline Results\n",
      "Accuracy: 0.7960199004975125\n",
      "\n",
      "Classification Report:\n",
      "               precision    recall  f1-score   support\n",
      "\n",
      "           0       1.00      0.95      0.98        42\n",
      "           1       0.77      1.00      0.87        44\n",
      "           2       1.00      0.71      0.83        42\n",
      "           3       0.83      0.79      0.81        38\n",
      "           4       0.38      0.32      0.34        19\n",
      "           5       0.45      0.62      0.53        16\n",
      "\n",
      "    accuracy                           0.80       201\n",
      "   macro avg       0.74      0.73      0.73       201\n",
      "weighted avg       0.82      0.80      0.80       201\n",
      "\n"
     ]
    },
    {
     "data": {
      "image/png": "[encoded data removed]",
      "text/plain": [
       "<Figure size 600x500 with 2 Axes>"
      ]
     },
     "metadata": {},
     "output_type": "display_data"
    }
   ],
   "source": [
    "from sklearn.linear_model import LogisticRegression\n",
    "from sklearn.metrics import accuracy_score, classification_report, confusion_matrix\n",
    "from sklearn.preprocessing import StandardScaler\n",
    "from sklearn.pipeline import Pipeline\n",
    "import seaborn as sns\n",
    "import matplotlib.pyplot as plt\n",
    "from sklearn.metrics import accuracy_score, f1_score\n",
    "\n",
    "\n",
    "# Build pipeline: scaling + logistic regression\n",
    "log_reg_pipeline = Pipeline([\n",
    "    (\"scaler\", StandardScaler(with_mean=False)),  # with_mean=False to work with sparse data from OneHotEncoder\n",
    "    (\"log_reg\", LogisticRegression(solver=\"lbfgs\", max_iter=2000, random_state=42))\n",
    "])\n",
    "\n",
    "# Train model\n",
    "log_reg_pipeline.fit(X_train_processed, y_train)\n",
    "\n",
    "# Predictions\n",
    "y_pred = log_reg_pipeline.predict(X_test_processed)\n",
    "\n",
    "# Evaluation\n",
    "print(\"✅ Logistic Regression Baseline Results\")\n",
    "print(\"Accuracy:\", accuracy_score(y_test, y_pred))\n",
    "print(\"\\nClassification Report:\\n\", classification_report(y_test, y_pred))\n",
    "\n",
    "# Confusion Matrix\n",
    "cm = confusion_matrix(y_test, y_pred)\n",
    "plt.figure(figsize=(6,5))\n",
    "sns.heatmap(cm, annot=True, fmt=\"d\", cmap=\"Blues\", \n",
    "            xticklabels=log_reg_pipeline.named_steps[\"log_reg\"].classes_, \n",
    "            yticklabels=log_reg_pipeline.named_steps[\"log_reg\"].classes_)\n",
    "plt.xlabel(\"Predicted\")\n",
    "plt.ylabel(\"Actual\")\n",
    "plt.title(\"Confusion Matrix - Logistic Regression (Baseline)\")\n",
    "plt.show()\n",
    "\n",
    "# Dictionary to store results\n",
    "results = {}\n",
    "\n",
    "# Example: after each model training, store metrics\n",
    "# Replace clf_name with your model name string\n",
    "def evaluate_and_store_results(clf_name, y_true, y_pred):\n",
    "    results[clf_name] = {\n",
    "        \"Accuracy\": accuracy_score(y_true, y_pred),\n",
    "        \"F1 (macro)\": f1_score(y_true, y_pred, average=\"macro\"),\n",
    "        \"F1 (weighted)\": f1_score(y_true, y_pred, average=\"weighted\"),\n",
    "    }\n",
    "\n",
    "evaluate_and_store_results(\"Logistic Regression\", y_test, y_pred)\n"
   ]
  },
  {
   "cell_type": "markdown",
   "id": "df58cf77",
   "metadata": {},
   "source": [
    "## 4. Baseline Model: Random Forest Classifier\n",
    "\n",
    "We begin by training a **Random Forest Classifier** as one of our baseline ensemble models.  \n",
    "This approach is chosen because Random Forests:  \n",
    "\n",
    "- Handle both categorical (OHE-encoded) and numeric features effectively.  \n",
    "- Are robust to non-linear relationships and feature interactions.  \n",
    "- Provide built-in handling of class imbalance (via `class_weight=\"balanced\"`).  \n",
    "\n",
    "The pipeline includes:  \n",
    "1. **Preprocessing** → one-hot encoding for categorical features and passthrough for numeric features.  \n",
    "2. **Classification** → Random Forest with 200 estimators and fixed random state for reproducibility.  \n",
    "\n",
    "We then evaluate the model using **accuracy** and a **classification report** (precision, recall, F1-score per CEFR level).  "
   ]
  },
  {
   "cell_type": "code",
   "execution_count": 186,
   "id": "085846f5",
   "metadata": {},
   "outputs": [
    {
     "name": "stdout",
     "output_type": "stream",
     "text": [
      "✅ Random Forest Results\n",
      "Accuracy: 0.736318407960199\n",
      "\n",
      "Classification Report:\n",
      "               precision    recall  f1-score   support\n",
      "\n",
      "           0       0.98      0.95      0.96        42\n",
      "           1       0.81      0.89      0.85        44\n",
      "           2       0.84      0.76      0.80        42\n",
      "           3       0.79      0.68      0.73        38\n",
      "           4       0.23      0.26      0.24        19\n",
      "           5       0.32      0.38      0.34        16\n",
      "\n",
      "    accuracy                           0.74       201\n",
      "   macro avg       0.66      0.65      0.66       201\n",
      "weighted avg       0.75      0.74      0.74       201\n",
      "\n"
     ]
    }
   ],
   "source": [
    "from sklearn.ensemble import RandomForestClassifier\n",
    "from sklearn.metrics import classification_report, accuracy_score\n",
    "from sklearn.metrics import accuracy_score, f1_score\n",
    "\n",
    "\n",
    "# Random Forest pipeline\n",
    "rf_clf = Pipeline(steps=[\n",
    "    (\"preprocessor\", preprocessor),\n",
    "    (\"classifier\", RandomForestClassifier(\n",
    "        n_estimators=200, random_state=42, class_weight=\"balanced\"\n",
    "    ))\n",
    "])\n",
    "\n",
    "# Train\n",
    "rf_clf.fit(X_train, y_train)\n",
    "\n",
    "# Predict\n",
    "y_pred = rf_clf.predict(X_test)\n",
    "\n",
    "# Results\n",
    "print(\"✅ Random Forest Results\")\n",
    "print(\"Accuracy:\", accuracy_score(y_test, y_pred))\n",
    "print(\"\\nClassification Report:\\n\", classification_report(y_test, y_pred))\n",
    "\n",
    "# Dictionary to store results\n",
    "results = {}\n",
    "\n",
    "# Example: after each model training, store metrics\n",
    "# Replace clf_name with your model name string\n",
    "def evaluate_and_store_results(clf_name, y_true, y_pred):\n",
    "    results[clf_name] = {\n",
    "        \"Accuracy\": accuracy_score(y_true, y_pred),\n",
    "        \"F1 (macro)\": f1_score(y_true, y_pred, average=\"macro\"),\n",
    "        \"F1 (weighted)\": f1_score(y_true, y_pred, average=\"weighted\"),\n",
    "    }\n",
    "\n",
    "evaluate_and_store_results(\"Random Forest\", y_test, y_pred)"
   ]
  },
  {
   "cell_type": "markdown",
   "id": "3514dbd6",
   "metadata": {},
   "source": [
    "## 5. Baseline Model: XGBoost Classifier  \n",
    "\n",
    "Next, we train an **XGBoost Classifier**, a powerful gradient boosting algorithm well-suited for multi-class classification tasks like CEFR prediction.  \n",
    "\n",
    "Key reasons for using XGBoost:  \n",
    "- Captures **non-linear relationships** and complex interactions between features.  \n",
    "- Often outperforms traditional models in structured/tabular data tasks.  \n",
    "- Provides **regularization** to prevent overfitting.  \n",
    "- Handles class imbalance effectively when tuned appropriately.  \n",
    "\n",
    "Configuration used:  \n",
    "- `n_estimators=300` → number of boosting rounds.  \n",
    "- `learning_rate=0.1` → controls contribution of each tree.  \n",
    "- `max_depth=6` → controls complexity of individual trees.  \n",
    "- `eval_metric=\"mlogloss\"` → multi-class log loss for robust evaluation.  \n",
    "\n",
    "We integrate XGBoost into the pipeline with preprocessing (OHE for categorical + passthrough for numeric) and evaluate using **accuracy** and a **classification report**.  "
   ]
  },
  {
   "cell_type": "code",
   "execution_count": 190,
   "id": "8190293c",
   "metadata": {},
   "outputs": [
    {
     "name": "stderr",
     "output_type": "stream",
     "text": [
      "c:\\Users\\husse\\OneDrive\\Projects\\lang-level-pred\\.venv\\Lib\\site-packages\\xgboost\\training.py:183: UserWarning: [23:33:59] WARNING: C:\\actions-runner\\_work\\xgboost\\xgboost\\src\\learner.cc:738: \n",
      "Parameters: { \"use_label_encoder\" } are not used.\n",
      "\n",
      "  bst.update(dtrain, iteration=i, fobj=obj)\n"
     ]
    },
    {
     "name": "stdout",
     "output_type": "stream",
     "text": [
      "✅ XGBoost Results\n",
      "Accuracy: 0.7263681592039801\n",
      "\n",
      "Classification Report:\n",
      "               precision    recall  f1-score   support\n",
      "\n",
      "           0       0.93      0.95      0.94        42\n",
      "           1       0.83      0.80      0.81        44\n",
      "           2       0.78      0.76      0.77        42\n",
      "           3       0.74      0.66      0.69        38\n",
      "           4       0.32      0.42      0.36        19\n",
      "           5       0.38      0.38      0.38        16\n",
      "\n",
      "    accuracy                           0.73       201\n",
      "   macro avg       0.66      0.66      0.66       201\n",
      "weighted avg       0.74      0.73      0.73       201\n",
      "\n"
     ]
    }
   ],
   "source": [
    "import xgboost as xgb\n",
    "from xgboost import XGBClassifier\n",
    "from sklearn.metrics import accuracy_score, f1_score\n",
    "\n",
    "xgb_clf = Pipeline(steps=[\n",
    "    (\"preprocessor\", preprocessor),\n",
    "    (\"classifier\", XGBClassifier(\n",
    "        n_estimators=300,\n",
    "        learning_rate=0.1,\n",
    "        max_depth=6,\n",
    "        random_state=42,\n",
    "        use_label_encoder=False,\n",
    "        eval_metric=\"mlogloss\"\n",
    "    ))\n",
    "])\n",
    "\n",
    "xgb_clf.fit(X_train, y_train)\n",
    "y_pred = xgb_clf.predict(X_test)\n",
    "\n",
    "print(\"✅ XGBoost Results\")\n",
    "print(\"Accuracy:\", accuracy_score(y_test, y_pred))\n",
    "print(\"\\nClassification Report:\\n\", classification_report(y_test, y_pred))\n",
    "\n",
    "# Dictionary to store results\n",
    "results = {}\n",
    "\n",
    "# Example: after each model training, store metrics\n",
    "# Replace clf_name with your model name string\n",
    "def evaluate_and_store_results(clf_name, y_true, y_pred):\n",
    "    results[clf_name] = {\n",
    "        \"Accuracy\": accuracy_score(y_true, y_pred),\n",
    "        \"F1 (macro)\": f1_score(y_true, y_pred, average=\"macro\"),\n",
    "        \"F1 (weighted)\": f1_score(y_true, y_pred, average=\"weighted\"),\n",
    "    }\n",
    "\n",
    "evaluate_and_store_results(\"XGBoost\", y_test, y_pred)"
   ]
  },
  {
   "cell_type": "markdown",
   "id": "4fc9c48f",
   "metadata": {},
   "source": [
    "## 6. Hyperparameter Tuning: Logistic Regression (with Class Imbalance Handling)\n",
    "\n",
    "While the baseline Logistic Regression model provides a useful benchmark, its performance can be further improved through **hyperparameter tuning**.  \n",
    "Because the dataset shows **class imbalance across CEFR levels**, we tune both **regularization strength** and **penalty type** while considering class weighting.\n",
    "\n",
    "Key tuning strategies:  \n",
    "- **Regularization strength (`C`)** → balances underfitting (small `C`) and overfitting (large `C`).  \n",
    "- **Penalty type** (`l1`, `l2`, `elasticnet`) → explores sparsity (L1), smoothness (L2), or a combination.  \n",
    "- **Elastic Net mixing (`l1_ratio`)** → balances L1 and L2 penalties for better feature selection.  \n",
    "- **Class weighting** (`balanced`) → addresses class imbalance by adjusting weights inversely proportional to class frequencies.  \n",
    "\n",
    "We use **GridSearchCV** to systematically evaluate combinations of these parameters with **macro-F1 scoring**, ensuring fair performance across all classes."
   ]
  },
  {
   "cell_type": "code",
   "execution_count": null,
   "id": "b127a935",
   "metadata": {},
   "outputs": [
    {
     "name": "stdout",
     "output_type": "stream",
     "text": [
      "Fitting 5 folds for each of 60 candidates, totalling 300 fits\n"
     ]
    },
    {
     "name": "stderr",
     "output_type": "stream",
     "text": [
      "c:\\Users\\husse\\OneDrive\\Projects\\lang-level-pred\\.venv\\Lib\\site-packages\\sklearn\\linear_model\\_logistic.py:1221: UserWarning: l1_ratio parameter is only used when penalty is 'elasticnet'. Got (penalty=l1)\n",
      "  warnings.warn(\n",
      "c:\\Users\\husse\\OneDrive\\Projects\\lang-level-pred\\.venv\\Lib\\site-packages\\sklearn\\linear_model\\_logistic.py:1272: FutureWarning: 'multi_class' was deprecated in version 1.5 and will be removed in 1.7. From then on, it will always use 'multinomial'. Leave it to its default value to avoid this warning.\n",
      "  warnings.warn(\n"
     ]
    },
    {
     "name": "stdout",
     "output_type": "stream",
     "text": [
      "✅ Best params: {'log_reg__C': 1, 'log_reg__class_weight': 'balanced', 'log_reg__l1_ratio': 0.0, 'log_reg__penalty': 'l1'}\n",
      "✅ Best CV f1_macro: 0.7051603465359206\n",
      "\n",
      "Test Accuracy: 0.7711442786069652\n",
      "\n",
      "Classification Report:\n",
      "               precision    recall  f1-score   support\n",
      "\n",
      "           0       1.00      0.95      0.98        42\n",
      "           1       0.77      1.00      0.87        44\n",
      "           2       1.00      0.69      0.82        42\n",
      "           3       0.90      0.68      0.78        38\n",
      "           4       0.29      0.21      0.24        19\n",
      "           5       0.38      0.75      0.50        16\n",
      "\n",
      "    accuracy                           0.77       201\n",
      "   macro avg       0.72      0.71      0.70       201\n",
      "weighted avg       0.81      0.77      0.77       201\n",
      "\n"
     ]
    },
    {
     "data": {
      "image/png": "[encoded data removed]",
      "text/plain": [
       "<Figure size 700x600 with 2 Axes>"
      ]
     },
     "metadata": {},
     "output_type": "display_data"
    },
    {
     "name": "stdout",
     "output_type": "stream",
     "text": [
      "Saved tuned model to logreg_tuned_pipeline.joblib\n"
     ]
    }
   ],
   "source": [
    "# Hyperparameter tuning for Logistic Regression (GridSearchCV)\n",
    "from sklearn.linear_model import LogisticRegression\n",
    "from sklearn.model_selection import GridSearchCV\n",
    "from sklearn.pipeline import Pipeline\n",
    "from sklearn.preprocessing import StandardScaler\n",
    "from sklearn.metrics import accuracy_score, classification_report, confusion_matrix\n",
    "import matplotlib.pyplot as plt\n",
    "import seaborn as sns\n",
    "import joblib   # for saving model if desired\n",
    "\n",
    "# Pipeline: scaler (with_mean=False for sparse) + logistic regression\n",
    "pipeline = Pipeline([\n",
    "    (\"scaler\", StandardScaler(with_mean=False)),\n",
    "    (\"log_reg\", LogisticRegression(\n",
    "        multi_class=\"multinomial\",\n",
    "        solver=\"saga\",        # saga supports l1, l2, elasticnet with multinomial\n",
    "        max_iter=5000,\n",
    "        random_state=42,\n",
    "        n_jobs=-1\n",
    "    ))\n",
    "])\n",
    "\n",
    "# Parameter grid\n",
    "param_grid = {\n",
    "    # regularization strength\n",
    "    \"log_reg__C\": [0.01, 0.1, 1, 10, 100],\n",
    "    # penalty types to try\n",
    "    \"log_reg__penalty\": [\"l2\", \"l1\", \"elasticnet\"],\n",
    "    # l1_ratio is only used if penalty='elasticnet' (ignored otherwise)\n",
    "    \"log_reg__l1_ratio\": [0.0, 0.5],   # 0.0==l2, 0.5==mixed\n",
    "    # optional: deal with class imbalance\n",
    "    \"log_reg__class_weight\": [None, \"balanced\"]\n",
    "}\n",
    "\n",
    "# GridSearchCV: optimize macro-F1 (sensible for class imbalance / multiclass)\n",
    "grid = GridSearchCV(\n",
    "    estimator=pipeline,\n",
    "    param_grid=param_grid,\n",
    "    scoring=\"f1_macro\",\n",
    "    cv=5,\n",
    "    n_jobs=-1,\n",
    "    verbose=2\n",
    ")\n",
    "\n",
    "# Fit (this may take a while depending on dataset size)\n",
    "grid.fit(X_train_processed, y_train)\n",
    "\n",
    "# Best params & CV score\n",
    "print(\"✅ Best params:\", grid.best_params_)\n",
    "print(\"✅ Best CV f1_macro:\", grid.best_score_)\n",
    "\n",
    "# Evaluate best estimator on the test set\n",
    "best_model = grid.best_estimator_\n",
    "y_pred = best_model.predict(X_test_processed)\n",
    "\n",
    "print(\"\\nTest Accuracy:\", accuracy_score(y_test, y_pred))\n",
    "print(\"\\nClassification Report:\\n\", classification_report(y_test, y_pred))\n",
    "\n",
    "# Confusion matrix plot\n",
    "cm = confusion_matrix(y_test, y_pred)\n",
    "plt.figure(figsize=(7,6))\n",
    "sns.heatmap(cm, annot=True, fmt=\"d\", cmap=\"Blues\",\n",
    "            xticklabels=best_model.named_steps[\"log_reg\"].classes_,\n",
    "            yticklabels=best_model.named_steps[\"log_reg\"].classes_)\n",
    "plt.xlabel(\"Predicted\")\n",
    "plt.ylabel(\"Actual\")\n",
    "plt.title(\"Confusion Matrix - Logistic Regression (Tuned)\")\n",
    "plt.show()\n",
    "\n",
    "# Optionally save the tuned pipeline\n",
    "joblib.dump(best_model, \"logreg_tuned_pipeline.joblib\")\n",
    "print(\"Saved tuned model to logreg_tuned_pipeline.joblib\")\n"
   ]
  },
  {
   "cell_type": "markdown",
   "id": "b420e9b5",
   "metadata": {},
   "source": [
    "## 7. Cross-Validation: Logistic Regression (Out-of-Sample Evaluation)\n",
    "\n",
    "To ensure the tuned Logistic Regression model generalizes well and is not overfitting the training data, we perform **cross-validation** using `cross_val_predict`.  \n",
    "This method generates **out-of-sample predictions for each training fold**, providing a more realistic estimate of model performance compared to in-sample evaluation.\n",
    "\n",
    "Key evaluation steps:  \n",
    "- **5-Fold Cross-Validation** → training on 80% of the data and validating on 20%, repeated across folds.  \n",
    "- **Macro-F1 scoring** ensures balanced performance across all CEFR levels, even in the presence of class imbalance.  \n",
    "- **Confusion matrix** visualizes per-class errors and highlights where misclassifications occur.  \n",
    "\n",
    "This step validates that the model’s performance is consistent and reliable before deployment."
   ]
  },
  {
   "cell_type": "code",
   "execution_count": null,
   "id": "ce545abc",
   "metadata": {},
   "outputs": [
    {
     "name": "stdout",
     "output_type": "stream",
     "text": [
      "\n",
      "📊 Cross-Fitting Results (Training Data, Out-of-Sample)\n",
      "Accuracy: 0.772104607721046\n",
      "\n",
      "Classification Report:\n",
      "               precision    recall  f1-score   support\n",
      "\n",
      "           0       1.00      0.92      0.96       166\n",
      "           1       0.75      0.98      0.85       175\n",
      "           2       0.96      0.69      0.80       166\n",
      "           3       0.84      0.75      0.79       154\n",
      "           4       0.44      0.45      0.44        75\n",
      "           5       0.36      0.48      0.41        67\n",
      "\n",
      "    accuracy                           0.77       803\n",
      "   macro avg       0.73      0.71      0.71       803\n",
      "weighted avg       0.80      0.77      0.78       803\n",
      "\n"
     ]
    },
    {
     "data": {
      "image/png": "[encoded data removed]",
      "text/plain": [
       "<Figure size 700x600 with 2 Axes>"
      ]
     },
     "metadata": {},
     "output_type": "display_data"
    }
   ],
   "source": [
    "from sklearn.model_selection import cross_val_predict\n",
    "from sklearn.metrics import accuracy_score, classification_report, confusion_matrix\n",
    "import matplotlib.pyplot as plt\n",
    "import seaborn as sns\n",
    "\n",
    "# Cross-fitting predictions on training set\n",
    "y_train_pred = cross_val_predict(best_model, X_train_processed, y_train, cv=5, n_jobs=-1)\n",
    "\n",
    "print(\"\\n📊 Cross-Fitting Results (Training Data, Out-of-Sample)\")\n",
    "print(\"Accuracy:\", accuracy_score(y_train, y_train_pred))\n",
    "print(\"\\nClassification Report:\\n\", classification_report(y_train, y_train_pred))\n",
    "\n",
    "cm_train = confusion_matrix(y_train, y_train_pred)\n",
    "plt.figure(figsize=(7,6))\n",
    "sns.heatmap(cm_train, annot=True, fmt=\"d\", cmap=\"Blues\",\n",
    "            xticklabels=best_model.named_steps[\"log_reg\"].classes_,\n",
    "            yticklabels=best_model.named_steps[\"log_reg\"].classes_)\n",
    "plt.xlabel(\"Predicted\")\n",
    "plt.ylabel(\"Actual\")\n",
    "plt.title(\"Confusion Matrix - Logistic Regression (Cross-Fitting)\")\n",
    "plt.show()"
   ]
  }
 ],
 "metadata": {
  "kernelspec": {
   "display_name": ".venv",
   "language": "python",
   "name": "python3"
  },
  "language_info": {
   "codemirror_mode": {
    "name": "ipython",
    "version": 3
   },
   "file_extension": ".py",
   "mimetype": "text/x-python",
   "name": "python",
   "nbconvert_exporter": "python",
   "pygments_lexer": "ipython3",
   "version": "3.13.2"
  }
 },
 "nbformat": 4,
 "nbformat_minor": 5
}

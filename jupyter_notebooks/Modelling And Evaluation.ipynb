{
 "cells": [
  {
   "cell_type": "markdown",
   "id": "6ebf79c1",
   "metadata": {},
   "source": [
    "# 05. Modelling and evaluation"
   ]
  },
  {
   "cell_type": "markdown",
   "id": "99ac5cb3",
   "metadata": {},
   "source": [
    "## Business Requirements (scope of this notebook)\n",
    "- **BR2:** Build and evaluate a **fair and interpretable CEFR classifier** using **engineered (leakage-free) features only**, meeting predefined targets and evidencing fairness across CEFR levels.\n",
    "\n",
    "## Objectives\n",
    "- Train and tune multiple classifiers (e.g., Logistic Regression, Random Forest, XGBoost) **on engineered features only**.  \n",
    "- Use **Accuracy, Macro-F1, Weighted-F1**, the **classification report**, and the **confusion matrix** for evaluation on the **test set**.  \n",
    "- Use **5-fold cross-validation** to check generalisation.  \n",
    "- Compare tuned models and **select a final model** that meets targets (e.g., **Accuracy ≥ 0.78**, **Macro-F1 ≥ 0.72**).  \n",
    "- **Save the final pipeline** for deployment (Streamlit).\n",
    "\n",
    "## Inputs\n",
    "- Engineered feature matrix `X` and target `y` from the Feature Engineering notebook.  \n",
    "- Saved train/test split artefacts (if applicable).\n",
    "\n",
    "## Outputs\n",
    "- Tuned models and a **test-set comparison table** of key metrics.  \n",
    "- Confusion matrix and per-class F1 scores for the final model.  \n",
    "- Cross-validation summary (out-of-sample estimates).  \n",
    "- **Statement of success** vs targets and **saved final pipeline** for inference.\n",
    "\n",
    "## Additional Information\n",
    "- This notebook **fulfils BR2**: it demonstrates that a model trained on **leakage-free engineered features** is **accurate, fair (Macro-F1),** and **deployable**."
   ]
  },
  {
   "cell_type": "markdown",
   "id": "a801c026",
   "metadata": {},
   "source": [
    "---"
   ]
  },
  {
   "cell_type": "markdown",
   "id": "a3eb9b54",
   "metadata": {},
   "source": [
    "# Project Directory Structure"
   ]
  },
  {
   "cell_type": "markdown",
   "id": "e7500c31",
   "metadata": {},
   "source": [
    "## Change working directory\n",
    "\n",
    "We need to change the working directory from its current folder to the folder the code of this project is currently located"
   ]
  },
  {
   "cell_type": "code",
   "execution_count": 1,
   "id": "849c2560",
   "metadata": {},
   "outputs": [
    {
     "data": {
      "text/plain": [
       "'c:\\\\Users\\\\husse\\\\OneDrive\\\\Projects\\\\lang-level-pred\\\\jupyter_notebooks'"
      ]
     },
     "execution_count": 1,
     "metadata": {},
     "output_type": "execute_result"
    }
   ],
   "source": [
    "import os\n",
    "current_dir = os.getcwd()\n",
    "current_dir"
   ]
  },
  {
   "cell_type": "code",
   "execution_count": 2,
   "id": "5a8bbf12",
   "metadata": {},
   "outputs": [
    {
     "name": "stdout",
     "output_type": "stream",
     "text": [
      "Working directory: c:\\Users\\husse\\OneDrive\\Projects\\lang-level-pred\n"
     ]
    }
   ],
   "source": [
    "from pathlib import Path\n",
    "\n",
    "# swtich to project root directory\n",
    "project_root = Path.cwd().parent\n",
    "os.chdir(project_root)\n",
    "print(f\"Working directory: {os.getcwd()}\")"
   ]
  },
  {
   "cell_type": "markdown",
   "id": "a0feac2c",
   "metadata": {},
   "source": [
    "---"
   ]
  },
  {
   "cell_type": "markdown",
   "id": "50cd7968",
   "metadata": {},
   "source": [
    "# Data loading\n",
    "This code block imports fundamental Python libraries for data analysis and visualization and checks their versions\n",
    "\n",
    "- pandas: For data manipulation and analysis\n",
    "- numpy: For numerical computations\n",
    "- matplotlib: For creating visualizations and plots\n",
    "- seaborn: creating attractive and informative statistical graphics from datasets\n",
    "\n",
    "The version checks help ensure:\n",
    "- Code compatibility across different environments\n",
    "- Reproducibility of analysis\n",
    "- Easy debugging of version-specific issues"
   ]
  },
  {
   "cell_type": "code",
   "execution_count": 3,
   "id": "1654478f",
   "metadata": {},
   "outputs": [
    {
     "name": "stdout",
     "output_type": "stream",
     "text": [
      "pandas version: 2.3.1\n",
      "NumPy version: 2.3.1\n",
      "matplotlib version: 3.10.5\n",
      "seaborn version: 0.13.2\n"
     ]
    }
   ],
   "source": [
    "# Import data analysis tools\n",
    "import pandas as pd\n",
    "import numpy as np\n",
    "import matplotlib\n",
    "import matplotlib.pyplot as plt\n",
    "import seaborn as sns\n",
    "\n",
    "\n",
    "print(f\"pandas version: {pd.__version__}\")\n",
    "print(f\"NumPy version: {np.__version__}\")\n",
    "print(f\"matplotlib version: {matplotlib.__version__}\")\n",
    "print(f\"seaborn version: {sns.__version__}\")"
   ]
  },
  {
   "cell_type": "markdown",
   "id": "97126b98",
   "metadata": {},
   "source": [
    "### List Files and Folders\n",
    "- This code shows what files and folders are in our data/clean folder and what folder we are currently in. "
   ]
  },
  {
   "cell_type": "code",
   "execution_count": 5,
   "id": "b1b6d4f3",
   "metadata": {},
   "outputs": [
    {
     "name": "stdout",
     "output_type": "stream",
     "text": [
      "[INFO] Files/folders available in data\\processed:\n"
     ]
    },
    {
     "data": {
      "text/plain": [
       "['features.csv', 'target.csv']"
      ]
     },
     "execution_count": 5,
     "metadata": {},
     "output_type": "execute_result"
    }
   ],
   "source": [
    "import os\n",
    "from pathlib import Path\n",
    "\n",
    "dataset_dir = Path(\"data/processed\")\n",
    "print(f\"[INFO] Files/folders available in {dataset_dir}:\")\n",
    "os.listdir(dataset_dir)"
   ]
  },
  {
   "cell_type": "markdown",
   "id": "9f631987",
   "metadata": {},
   "source": [
    "## Load Processed Data\n",
    "\n",
    "In this step, we will load the processed dataset that was prepared in the Feature Engineering Notebook.  \n",
    "The data has been saved in two separate files:\n",
    "\n",
    "- `features.csv` → contains the engineered and scaled features.  \n",
    "- `target.csv` → contains the encoded CEFR levels.  \n",
    "\n",
    "We will:\n",
    "- Load both files.  \n",
    "- Inspect their structure (rows, columns, datatypes).  \n",
    "- Confirm they align correctly (same number of rows).  \n",
    "- Prepare them as `X` (features) and `y` (target) for model training.    "
   ]
  },
  {
   "cell_type": "code",
   "execution_count": 228,
   "id": "12fcd570",
   "metadata": {},
   "outputs": [
    {
     "name": "stdout",
     "output_type": "stream",
     "text": [
      "Features shape: (1004, 14)\n",
      "Target shape: (1004,)\n",
      "\n",
      "Feature columns:\n",
      " ['strongest_skill', 'weakest_skill', 'second_weakest_skill', 'strength_weakness_gap', 'learning_profile', 'speaking_minus_avg', 'reading_minus_avg', 'listening_minus_avg', 'writing_minus_avg', 'productive_dominant', 'speaking_level', 'reading_level', 'listening_level', 'writing_level']\n",
      "\n",
      "Target preview:\n",
      " 0    0\n",
      "1    4\n",
      "2    2\n",
      "3    2\n",
      "4    3\n",
      "Name: cefr_encoded, dtype: int64\n",
      "✅ Features and target aligned correctly.\n"
     ]
    }
   ],
   "source": [
    "import pandas as pd\n",
    "\n",
    "# Load processed features and target\n",
    "X = pd.read_csv(\"data/processed/features.csv\")\n",
    "y = pd.read_csv(\"data/processed/target.csv\").squeeze()  # convert to Series\n",
    "\n",
    "# ✅ Drop avg_score from features\n",
    "if \"avg_score\" in X.columns:\n",
    "    X = X.drop(columns=[\"avg_score\"])\n",
    "\n",
    "# Inspect shapes\n",
    "print(\"Features shape:\", X.shape)\n",
    "print(\"Target shape:\", y.shape)\n",
    "\n",
    "# Preview\n",
    "print(\"\\nFeature columns:\\n\", X.columns.tolist())\n",
    "print(\"\\nTarget preview:\\n\", y.head())\n",
    "\n",
    "# Validate alignment\n",
    "assert X.shape[0] == y.shape[0], \"❌ Row mismatch between features and target!\"\n",
    "print(\"✅ Features and target aligned correctly.\")"
   ]
  },
  {
   "cell_type": "markdown",
   "id": "0bdf2016",
   "metadata": {},
   "source": [
    "---"
   ]
  },
  {
   "cell_type": "markdown",
   "id": "adf048b0",
   "metadata": {},
   "source": [
    "## 1. Define Features and Target\n",
    "\n",
    "Now that we have successfully loaded the processed dataset, we need to separate it into:\n",
    "\n",
    "- **X (features):** all engineered and scaled variables used by the model to make predictions.  \n",
    "- **y (target):** the encoded CEFR levels that the model will learn to predict.  \n",
    "\n",
    "We will confirm that both `X` and `y` are correctly structured and aligned before proceeding to train/test splitting."
   ]
  },
  {
   "cell_type": "code",
   "execution_count": 229,
   "id": "84b61bfd",
   "metadata": {},
   "outputs": [
    {
     "name": "stdout",
     "output_type": "stream",
     "text": [
      "Feature matrix (X):\n",
      "  strongest_skill weakest_skill second_weakest_skill  strength_weakness_gap  \\\n",
      "0         reading      speaking            listening               1.427690   \n",
      "1        speaking       writing            listening              -1.225282   \n",
      "2         reading       writing             speaking               0.101204   \n",
      "3        speaking     listening            listening               0.101204   \n",
      "4       listening       reading             speaking               0.631798   \n",
      "\n",
      "     learning_profile  speaking_minus_avg  reading_minus_avg  \\\n",
      "0  Uneven Development           -2.069500           1.751171   \n",
      "1            Balanced            0.609820           0.058795   \n",
      "2            Balanced            0.197617           0.735745   \n",
      "3            Balanced            1.502926           0.397270   \n",
      "4            Balanced           -0.077185          -1.430496   \n",
      "\n",
      "   listening_minus_avg  writing_minus_avg  productive_dominant speaking_level  \\\n",
      "0            -0.421848           0.720782            -0.895831       Beginner   \n",
      "1            -0.221437          -0.438501             1.116282       Advanced   \n",
      "2             0.713814          -1.665976            -0.895831   Intermediate   \n",
      "3            -0.956277          -0.915852             1.116282   Intermediate   \n",
      "4             1.515458          -0.029342            -0.895831       Advanced   \n",
      "\n",
      "  reading_level listening_level writing_level  \n",
      "0  Intermediate        Beginner  Intermediate  \n",
      "1      Advanced        Advanced      Advanced  \n",
      "2  Intermediate    Intermediate  Intermediate  \n",
      "3  Intermediate    Intermediate  Intermediate  \n",
      "4      Advanced        Advanced      Advanced  \n",
      "\n",
      "Target vector (y):\n",
      "0    0\n",
      "1    4\n",
      "2    2\n",
      "3    2\n",
      "4    3\n",
      "Name: cefr_encoded, dtype: int64\n",
      "\n",
      "Shapes:\n",
      "X: (1004, 14)\n",
      "y: (1004,)\n"
     ]
    }
   ],
   "source": [
    "# Confirm feature matrix (X) and target vector (y)\n",
    "\n",
    "print(\"Feature matrix (X):\")\n",
    "print(X.head())\n",
    "\n",
    "print(\"\\nTarget vector (y):\")\n",
    "print(y.head())\n",
    "\n",
    "print(\"\\nShapes:\")\n",
    "print(\"X:\", X.shape)\n",
    "print(\"y:\", y.shape)"
   ]
  },
  {
   "cell_type": "markdown",
   "id": "ee5bd628",
   "metadata": {},
   "source": [
    "## 2. Train/Test Split with One-Hot Encoding\n",
    "\n",
    "In this step, we:\n",
    "\n",
    "- Split the dataset into **training** and **testing** sets using stratified sampling to preserve the CEFR class distribution.  \n",
    "- Identified categorical engineered features:  \n",
    "  - `strongest_skill`  \n",
    "  - `weakest_skill`  \n",
    "  - `second_weakest_skill`  \n",
    "  - `learning_profile`  \n",
    "- Identified numeric engineered features:  \n",
    "  - `skill_std`  \n",
    "  - `strength_weakness_gap`  \n",
    "  - `productive_receptive_ratio`  \n",
    "  - `speaking_minus_avg`  \n",
    "  - `reading_minus_avg`  \n",
    "  - `listening_minus_avg`  \n",
    "  - `writing_minus_avg`  \n",
    "  - `speaking_to_reading`  \n",
    "  - `writing_to_listening`  \n",
    "- Applied **One-Hot Encoding (OHE)** to categorical variables (dropping the first category to avoid multicollinearity).  \n",
    "- Kept numeric features as-is (passthrough).  \n",
    "- Verified dataset sizes before and after preprocessing. "
   ]
  },
  {
   "cell_type": "code",
   "execution_count": 230,
   "id": "33359dfb",
   "metadata": {},
   "outputs": [
    {
     "name": "stdout",
     "output_type": "stream",
     "text": [
      "Categorical features: ['strongest_skill', 'weakest_skill', 'second_weakest_skill', 'learning_profile', 'reading_level', 'listening_level', 'speaking_level', 'writing_level']\n",
      "Numeric features: ['strength_weakness_gap', 'speaking_minus_avg', 'reading_minus_avg', 'listening_minus_avg', 'writing_minus_avg', 'productive_dominant']\n",
      "Training set size: (803, 14)\n",
      "Test set size: (201, 14)\n",
      "Processed training set shape: (803, 24)\n",
      "Processed test set shape: (201, 24)\n"
     ]
    }
   ],
   "source": [
    "from sklearn.model_selection import train_test_split\n",
    "from sklearn.preprocessing import OneHotEncoder\n",
    "from sklearn.compose import ColumnTransformer\n",
    "from sklearn.pipeline import Pipeline\n",
    "\n",
    "# Identify categorical and numeric features\n",
    "categorical_features = [\"strongest_skill\", \"weakest_skill\", \"second_weakest_skill\", \"learning_profile\", \"reading_level\", \"listening_level\", \"speaking_level\", \"writing_level\"]\n",
    "numeric_features = [col for col in X.columns if col not in categorical_features]\n",
    "\n",
    "print(\"Categorical features:\", categorical_features)\n",
    "print(\"Numeric features:\", numeric_features)\n",
    "\n",
    "# Define preprocessing: One-Hot Encode categorical features\n",
    "preprocessor = ColumnTransformer(\n",
    "    transformers=[\n",
    "        (\"cat\", OneHotEncoder(drop=\"first\"), categorical_features),\n",
    "        (\"num\", \"passthrough\", numeric_features)\n",
    "    ]\n",
    ")\n",
    "\n",
    "# Split the dataset (stratify ensures CEFR balance)\n",
    "X_train, X_test, y_train, y_test = train_test_split(\n",
    "    X, y, test_size=0.2, stratify=y, random_state=42\n",
    ")\n",
    "\n",
    "print(\"Training set size:\", X_train.shape)\n",
    "print(\"Test set size:\", X_test.shape)\n",
    "\n",
    "# Fit and transform training set, transform test set\n",
    "X_train_processed = preprocessor.fit_transform(X_train)\n",
    "X_test_processed = preprocessor.transform(X_test)\n",
    "\n",
    "print(\"Processed training set shape:\", X_train_processed.shape)\n",
    "print(\"Processed test set shape:\", X_test_processed.shape)"
   ]
  },
  {
   "cell_type": "markdown",
   "id": "7e4a9a0e",
   "metadata": {},
   "source": [
    "## 3. Model Training (Baseline)\n",
    "\n",
    "In this step, we will train an initial **baseline machine learning model** to predict the CEFR level.\n",
    "\n",
    "- **Why Logistic Regression?**  \n",
    "  Logistic Regression is a simple, interpretable classifier that works well as a starting point for multi-class classification. It provides a benchmark for accuracy and helps us understand whether more complex models are needed.\n",
    "\n",
    "- **Process:**\n",
    "  1. Use the preprocessed feature set (`X_train_processed`, `X_test_processed`).\n",
    "  2. Train a **Logistic Regression model** with multi-class handling (`multinomial`).\n",
    "  3. Evaluate performance on the test set using:\n",
    "     - Accuracy\n",
    "     - Classification report (precision, recall, F1-score per class)\n",
    "     - Confusion matrix (to visualize misclassifications)\n",
    "\n",
    "This baseline performance will serve as a reference point for future, more advanced models."
   ]
  },
  {
   "cell_type": "code",
   "execution_count": null,
   "id": "ebd953e4",
   "metadata": {},
   "outputs": [
    {
     "name": "stdout",
     "output_type": "stream",
     "text": [
      "✅ Logistic Regression Baseline Results\n",
      "Accuracy: 0.7960199004975125\n",
      "\n",
      "Classification Report:\n",
      "               precision    recall  f1-score   support\n",
      "\n",
      "           0       1.00      0.95      0.98        42\n",
      "           1       0.77      1.00      0.87        44\n",
      "           2       1.00      0.71      0.83        42\n",
      "           3       0.83      0.79      0.81        38\n",
      "           4       0.38      0.32      0.34        19\n",
      "           5       0.45      0.62      0.53        16\n",
      "\n",
      "    accuracy                           0.80       201\n",
      "   macro avg       0.74      0.73      0.73       201\n",
      "weighted avg       0.82      0.80      0.80       201\n",
      "\n"
     ]
    }
   ],
   "source": [
    "from sklearn.linear_model import LogisticRegression\n",
    "from sklearn.metrics import accuracy_score, classification_report, confusion_matrix\n",
    "from sklearn.preprocessing import StandardScaler\n",
    "from sklearn.pipeline import Pipeline\n",
    "import seaborn as sns\n",
    "import matplotlib.pyplot as plt\n",
    "from sklearn.metrics import accuracy_score, f1_score\n",
    "\n",
    "\n",
    "# Build pipeline: scaling + logistic regression\n",
    "log_reg_pipeline = Pipeline([\n",
    "    (\"scaler\", StandardScaler(with_mean=False)),  # with_mean=False to work with sparse data from OneHotEncoder\n",
    "    (\"log_reg\", LogisticRegression(solver=\"lbfgs\", max_iter=2000, random_state=42))\n",
    "])\n",
    "\n",
    "# Train model\n",
    "log_reg_pipeline.fit(X_train_processed, y_train)\n",
    "\n",
    "# Predictions\n",
    "y_pred = log_reg_pipeline.predict(X_test_processed)\n",
    "\n",
    "# Evaluation\n",
    "print(\"✅ Logistic Regression Baseline Results\")\n",
    "print(\"Accuracy:\", accuracy_score(y_test, y_pred))\n",
    "print(\"\\nClassification Report:\\n\", classification_report(y_test, y_pred))\n",
    "\n",
    "\n"
   ]
  },
  {
   "cell_type": "markdown",
   "id": "df58cf77",
   "metadata": {},
   "source": [
    "## 4. Model: Random Forest Classifier  \n",
    "\n",
    "We now train a **Random Forest Classifier** as one of our core models.  \n",
    "Random Forests are an ensemble of decision trees, which makes them effective at capturing non-linear relationships and feature interactions.  \n",
    "\n",
    "Key reasons for using Random Forest:  \n",
    "- They handle both categorical (OHE-encoded) and numeric features effectively.  \n",
    "- They are robust to overfitting compared to individual decision trees.  \n",
    "- They can provide feature importance estimates to understand which variables drive predictions.  \n",
    "\n",
    "The pipeline includes:  \n",
    "1. **Preprocessing** → one-hot encoding for categorical features and passthrough for numeric features.  \n",
    "2. **Classification** → Random Forest with 200 estimators and a fixed random state for reproducibility.  \n",
    "\n",
    "We then evaluate the model using:  \n",
    "- **Accuracy** (overall correctness)  \n",
    "- **Classification report** (precision, recall, F1-score per CEFR level)  \n",
    "- **Confusion matrix** (visualising misclassifications across levels) "
   ]
  },
  {
   "cell_type": "code",
   "execution_count": null,
   "id": "085846f5",
   "metadata": {},
   "outputs": [
    {
     "name": "stdout",
     "output_type": "stream",
     "text": [
      "✅ Random Forest Results\n",
      "Accuracy: 0.736318407960199\n",
      "\n",
      "Classification Report:\n",
      "               precision    recall  f1-score   support\n",
      "\n",
      "           0       0.98      0.95      0.96        42\n",
      "           1       0.81      0.89      0.85        44\n",
      "           2       0.84      0.76      0.80        42\n",
      "           3       0.79      0.68      0.73        38\n",
      "           4       0.23      0.26      0.24        19\n",
      "           5       0.32      0.38      0.34        16\n",
      "\n",
      "    accuracy                           0.74       201\n",
      "   macro avg       0.66      0.65      0.66       201\n",
      "weighted avg       0.75      0.74      0.74       201\n",
      "\n"
     ]
    }
   ],
   "source": [
    "from sklearn.ensemble import RandomForestClassifier\n",
    "from sklearn.metrics import classification_report, accuracy_score\n",
    "from sklearn.metrics import accuracy_score, f1_score\n",
    "\n",
    "\n",
    "# Random Forest pipeline\n",
    "rf_clf = Pipeline(steps=[\n",
    "    (\"preprocessor\", preprocessor),\n",
    "    (\"classifier\", RandomForestClassifier(\n",
    "        n_estimators=200, random_state=42, class_weight=\"balanced\"\n",
    "    ))\n",
    "])\n",
    "\n",
    "# Train\n",
    "rf_clf.fit(X_train, y_train)\n",
    "\n",
    "# Predict\n",
    "y_pred = rf_clf.predict(X_test)\n",
    "\n",
    "# Results\n",
    "print(\"✅ Random Forest Results\")\n",
    "print(\"Accuracy:\", accuracy_score(y_test, y_pred))\n",
    "print(\"\\nClassification Report:\\n\", classification_report(y_test, y_pred))\n"
   ]
  },
  {
   "cell_type": "markdown",
   "id": "3514dbd6",
   "metadata": {},
   "source": [
    "## 5. Model: XGBoost Classifier  \n",
    "\n",
    "Next, we train an **XGBoost Classifier**, a gradient boosting algorithm that is highly effective for multi-class classification tasks like CEFR prediction.  \n",
    "\n",
    "Key reasons for using XGBoost:  \n",
    "- Captures **non-linear relationships** and complex feature interactions.  \n",
    "- Well-suited for structured/tabular data and often achieves state-of-the-art results.  \n",
    "- Includes **regularization** terms to reduce overfitting.  \n",
    "- Can handle class imbalance when tuned with appropriate parameters.  \n",
    "\n",
    "Configuration used:  \n",
    "- `n_estimators=300` → number of boosting rounds.  \n",
    "- `learning_rate=0.1` → controls contribution of each tree.  \n",
    "- `max_depth=6` → maximum depth of each tree (controls complexity).  \n",
    "- `eval_metric=\"mlogloss\"` → multi-class log loss for evaluation during training.  \n",
    "\n",
    "The pipeline includes:  \n",
    "1. **Preprocessing** → one-hot encoding for categorical features and passthrough for numeric features.  \n",
    "2. **Classification** → XGBoost model with the above hyperparameters.  \n",
    "\n",
    "We then evaluate performance using:  \n",
    "- **Accuracy** (overall correctness)  \n",
    "- **Classification report** (precision, recall, F1-score per CEFR level)  \n",
    "- **Confusion matrix** (to analyse misclassifications)  "
   ]
  },
  {
   "cell_type": "code",
   "execution_count": null,
   "id": "8190293c",
   "metadata": {},
   "outputs": [
    {
     "name": "stderr",
     "output_type": "stream",
     "text": [
      "c:\\Users\\husse\\OneDrive\\Projects\\lang-level-pred\\.venv\\Lib\\site-packages\\xgboost\\training.py:183: UserWarning: [07:15:40] WARNING: C:\\actions-runner\\_work\\xgboost\\xgboost\\src\\learner.cc:738: \n",
      "Parameters: { \"use_label_encoder\" } are not used.\n",
      "\n",
      "  bst.update(dtrain, iteration=i, fobj=obj)\n"
     ]
    },
    {
     "name": "stdout",
     "output_type": "stream",
     "text": [
      "✅ XGBoost Results\n",
      "Accuracy: 0.7263681592039801\n",
      "\n",
      "Classification Report:\n",
      "               precision    recall  f1-score   support\n",
      "\n",
      "           0       0.93      0.95      0.94        42\n",
      "           1       0.83      0.80      0.81        44\n",
      "           2       0.78      0.76      0.77        42\n",
      "           3       0.74      0.66      0.69        38\n",
      "           4       0.32      0.42      0.36        19\n",
      "           5       0.38      0.38      0.38        16\n",
      "\n",
      "    accuracy                           0.73       201\n",
      "   macro avg       0.66      0.66      0.66       201\n",
      "weighted avg       0.74      0.73      0.73       201\n",
      "\n"
     ]
    }
   ],
   "source": [
    "import xgboost as xgb\n",
    "from xgboost import XGBClassifier\n",
    "from sklearn.metrics import accuracy_score, f1_score\n",
    "\n",
    "xgb_clf = Pipeline(steps=[\n",
    "    (\"preprocessor\", preprocessor),\n",
    "    (\"classifier\", XGBClassifier(\n",
    "        n_estimators=300,\n",
    "        learning_rate=0.1,\n",
    "        max_depth=6,\n",
    "        random_state=42,\n",
    "        use_label_encoder=False,\n",
    "        eval_metric=\"mlogloss\"\n",
    "    ))\n",
    "])\n",
    "\n",
    "xgb_clf.fit(X_train, y_train)\n",
    "y_pred = xgb_clf.predict(X_test)\n",
    "\n",
    "print(\"✅ XGBoost Results\")\n",
    "print(\"Accuracy:\", accuracy_score(y_test, y_pred))\n",
    "print(\"\\nClassification Report:\\n\", classification_report(y_test, y_pred))\n"
   ]
  },
  {
   "cell_type": "markdown",
   "id": "4fc9c48f",
   "metadata": {},
   "source": [
    "## 6. Hyperparameter Tuning: Logistic Regression (with Class Imbalance Handling)  \n",
    "\n",
    "While the baseline Logistic Regression model provides a strong benchmark, its performance can be further improved through **hyperparameter tuning**.  \n",
    "Because the dataset shows **class imbalance across CEFR levels**, we tune both **regularization strength** and **penalty type**, while also considering **class weighting**.  \n",
    "\n",
    "### Key tuning strategies  \n",
    "- **Regularization strength (`C`)** → balances underfitting (small `C`) and overfitting (large `C`).  \n",
    "- **Penalty type (`l1`, `l2`, `elasticnet`)** → explores sparsity (L1), smoothness (L2), or a combination.  \n",
    "- **Elastic Net mixing (`l1_ratio`)** → balances L1 and L2 penalties for flexible feature selection.  \n",
    "- **Class weighting (`balanced`)** → adjusts weights inversely to class frequencies, ensuring minority CEFR levels are not overlooked.  \n",
    "\n",
    "We apply **GridSearchCV** to systematically evaluate parameter combinations, using **macro-F1** as the scoring metric to ensure fair performance across all CEFR levels, regardless of class imbalance.  "
   ]
  },
  {
   "cell_type": "code",
   "execution_count": 249,
   "id": "b127a935",
   "metadata": {},
   "outputs": [
    {
     "name": "stdout",
     "output_type": "stream",
     "text": [
      "Fitting 5 folds for each of 60 candidates, totalling 300 fits\n"
     ]
    },
    {
     "name": "stderr",
     "output_type": "stream",
     "text": [
      "c:\\Users\\husse\\OneDrive\\Projects\\lang-level-pred\\.venv\\Lib\\site-packages\\sklearn\\linear_model\\_logistic.py:1221: UserWarning: l1_ratio parameter is only used when penalty is 'elasticnet'. Got (penalty=l1)\n",
      "  warnings.warn(\n",
      "c:\\Users\\husse\\OneDrive\\Projects\\lang-level-pred\\.venv\\Lib\\site-packages\\sklearn\\linear_model\\_logistic.py:1272: FutureWarning: 'multi_class' was deprecated in version 1.5 and will be removed in 1.7. From then on, it will always use 'multinomial'. Leave it to its default value to avoid this warning.\n",
      "  warnings.warn(\n"
     ]
    },
    {
     "name": "stdout",
     "output_type": "stream",
     "text": [
      "✅ Best params: {'log_reg__C': 1, 'log_reg__class_weight': 'balanced', 'log_reg__l1_ratio': 0.0, 'log_reg__penalty': 'l1'}\n",
      "✅ Best CV f1_macro: 0.7051603465359206\n",
      "\n",
      "Test Accuracy: 0.7711442786069652\n",
      "\n",
      "Classification Report:\n",
      "               precision    recall  f1-score   support\n",
      "\n",
      "           0       1.00      0.95      0.98        42\n",
      "           1       0.77      1.00      0.87        44\n",
      "           2       1.00      0.69      0.82        42\n",
      "           3       0.90      0.68      0.78        38\n",
      "           4       0.29      0.21      0.24        19\n",
      "           5       0.38      0.75      0.50        16\n",
      "\n",
      "    accuracy                           0.77       201\n",
      "   macro avg       0.72      0.71      0.70       201\n",
      "weighted avg       0.81      0.77      0.77       201\n",
      "\n",
      "Saved tuned model to logreg_tuned_pipeline.joblib\n"
     ]
    }
   ],
   "source": [
    "# Hyperparameter tuning for Logistic Regression (GridSearchCV)\n",
    "from sklearn.linear_model import LogisticRegression\n",
    "from sklearn.model_selection import GridSearchCV\n",
    "from sklearn.pipeline import Pipeline\n",
    "from sklearn.preprocessing import StandardScaler\n",
    "from sklearn.metrics import accuracy_score, classification_report, confusion_matrix\n",
    "import matplotlib.pyplot as plt\n",
    "import seaborn as sns\n",
    "import joblib   # for saving model if desired\n",
    "\n",
    "# Pipeline: scaler (with_mean=False for sparse) + logistic regression\n",
    "pipeline = Pipeline([\n",
    "    (\"scaler\", StandardScaler(with_mean=False)),\n",
    "    (\"log_reg\", LogisticRegression(\n",
    "        multi_class=\"multinomial\",\n",
    "        solver=\"saga\",        # saga supports l1, l2, elasticnet with multinomial\n",
    "        max_iter=5000,\n",
    "        random_state=42,\n",
    "        n_jobs=-1\n",
    "    ))\n",
    "])\n",
    "\n",
    "# Parameter grid\n",
    "param_grid = {\n",
    "    # regularization strength\n",
    "    \"log_reg__C\": [0.01, 0.1, 1, 10, 100],\n",
    "    # penalty types to try\n",
    "    \"log_reg__penalty\": [\"l2\", \"l1\", \"elasticnet\"],\n",
    "    # l1_ratio is only used if penalty='elasticnet' (ignored otherwise)\n",
    "    \"log_reg__l1_ratio\": [0.0, 0.5],   # 0.0==l2, 0.5==mixed\n",
    "    # optional: deal with class imbalance\n",
    "    \"log_reg__class_weight\": [None, \"balanced\"]\n",
    "}\n",
    "\n",
    "# GridSearchCV: optimize macro-F1 (sensible for class imbalance / multiclass)\n",
    "grid = GridSearchCV(\n",
    "    estimator=pipeline,\n",
    "    param_grid=param_grid,\n",
    "    scoring=\"f1_macro\",\n",
    "    cv=5,\n",
    "    n_jobs=-1,\n",
    "    verbose=2\n",
    ")\n",
    "\n",
    "# Fit (this may take a while depending on dataset size)\n",
    "grid.fit(X_train_processed, y_train)\n",
    "\n",
    "# Best params & CV score\n",
    "print(\"✅ Best params:\", grid.best_params_)\n",
    "print(\"✅ Best CV f1_macro:\", grid.best_score_)\n",
    "\n",
    "# Evaluate best estimator on the test set\n",
    "best_model = grid.best_estimator_\n",
    "y_pred = best_model.predict(X_test_processed)\n",
    "\n",
    "print(\"\\nTest Accuracy:\", accuracy_score(y_test, y_pred))\n",
    "print(\"\\nClassification Report:\\n\", classification_report(y_test, y_pred))\n",
    "\n",
    "# save the tuned pipeline\n",
    "joblib.dump(best_model, \"logreg_tuned_pipeline.joblib\")\n",
    "print(\"Saved tuned model to logreg_tuned_pipeline.joblib\")\n"
   ]
  },
  {
   "cell_type": "markdown",
   "id": "3f7f0ef7",
   "metadata": {},
   "source": [
    "## 7. Hyperparameter Tuning: Random Forest Classifier (with Class Imbalance Handling)  \n",
    "\n",
    "While the baseline Random Forest provides a strong non-linear model, its performance can be improved through **hyperparameter tuning**.  \n",
    "Because the dataset shows **class imbalance across CEFR levels**, we focus on parameters that control model complexity and weighting of classes.  \n",
    "\n",
    "### Key tuning strategies  \n",
    "- **Number of trees (`n_estimators`)** → more trees generally improve stability and reduce variance.  \n",
    "- **Maximum depth (`max_depth`)** → limits the complexity of individual trees, helping to prevent overfitting.  \n",
    "- **Class weighting (`class_weight`)** → e.g., `balanced` adjusts weights inversely to class frequencies, ensuring minority CEFR levels are considered fairly.  \n",
    "\n",
    "We apply **GridSearchCV** to systematically evaluate parameter combinations, using **macro-F1** as the scoring metric to ensure balanced performance across all CEFR levels.  \n",
    "\n",
    "This tuning step helps Random Forest generalise better, controlling overfitting while also addressing class imbalance in the dataset.  "
   ]
  },
  {
   "cell_type": "code",
   "execution_count": 248,
   "id": "b7adec86",
   "metadata": {},
   "outputs": [
    {
     "name": "stdout",
     "output_type": "stream",
     "text": [
      "Fitting 5 folds for each of 18 candidates, totalling 90 fits\n",
      "✅ Best params (RF): {'rf__class_weight': 'balanced', 'rf__max_depth': 10, 'rf__n_estimators': 300}\n",
      "✅ Best CV f1_macro (RF): 0.7088437428125592\n",
      "\n",
      "Test Accuracy (RF): 0.7313432835820896\n",
      "\n",
      "Classification Report (RF):\n",
      "               precision    recall  f1-score   support\n",
      "\n",
      "           0       1.00      0.95      0.98        42\n",
      "           1       0.79      0.95      0.87        44\n",
      "           2       0.88      0.71      0.79        42\n",
      "           3       0.92      0.63      0.75        38\n",
      "           4       0.18      0.21      0.20        19\n",
      "           5       0.27      0.44      0.33        16\n",
      "\n",
      "    accuracy                           0.73       201\n",
      "   macro avg       0.67      0.65      0.65       201\n",
      "weighted avg       0.78      0.73      0.75       201\n",
      "\n",
      "Saved tuned model to random_forest_tuned_pipeline.joblib\n"
     ]
    }
   ],
   "source": [
    "# Hyperparameter tuning for Random Forest (GridSearchCV)\n",
    "from sklearn.ensemble import RandomForestClassifier\n",
    "from sklearn.model_selection import GridSearchCV\n",
    "from sklearn.metrics import accuracy_score, classification_report, confusion_matrix\n",
    "import matplotlib.pyplot as plt\n",
    "import seaborn as sns\n",
    "import joblib\n",
    "\n",
    "# Pipeline (just the model, since RF handles numeric/categorical OHE directly if preprocessed)\n",
    "rf_pipeline = Pipeline([\n",
    "    (\"rf\", RandomForestClassifier(random_state=42, n_jobs=-1))\n",
    "])\n",
    "\n",
    "# Parameter grid (kept small & sensible)\n",
    "rf_param_grid = {\n",
    "    \"rf__n_estimators\": [200, 300, 500],\n",
    "    \"rf__max_depth\": [None, 10, 20],\n",
    "    \"rf__class_weight\": [None, \"balanced\"]\n",
    "}\n",
    "\n",
    "# GridSearchCV: optimise macro-F1\n",
    "rf_grid = GridSearchCV(\n",
    "    estimator=rf_pipeline,\n",
    "    param_grid=rf_param_grid,\n",
    "    scoring=\"f1_macro\",\n",
    "    cv=5,\n",
    "    n_jobs=-1,\n",
    "    verbose=2\n",
    ")\n",
    "\n",
    "# Fit\n",
    "rf_grid.fit(X_train_processed, y_train)\n",
    "\n",
    "# Best params & CV score\n",
    "print(\"✅ Best params (RF):\", rf_grid.best_params_)\n",
    "print(\"✅ Best CV f1_macro (RF):\", rf_grid.best_score_)\n",
    "\n",
    "# Evaluate best estimator on the test set\n",
    "rf_best_model = rf_grid.best_estimator_\n",
    "rf_y_pred = rf_best_model.predict(X_test_processed)\n",
    "\n",
    "print(\"\\nTest Accuracy (RF):\", accuracy_score(y_test, rf_y_pred))\n",
    "print(\"\\nClassification Report (RF):\\n\", classification_report(y_test, rf_y_pred))\n",
    "\n",
    "\n",
    "# Save the tuned pipeline\n",
    "joblib.dump(rf_best_model, \"random_forest_tuned_pipeline.joblib\")\n",
    "print(\"Saved tuned model to random_forest_tuned_pipeline.joblib\")\n",
    "\n"
   ]
  },
  {
   "cell_type": "markdown",
   "id": "454d9967",
   "metadata": {},
   "source": [
    "## 8. Hyperparameter Tuning: XGBoost Classifier (with Class Imbalance Handling)  \n",
    "\n",
    "While the baseline XGBoost model already provides strong predictive power, its performance can be further improved through **hyperparameter tuning**.  \n",
    "Because the dataset shows **class imbalance across CEFR levels**, we focus on parameters that balance model complexity, learning rate, and sampling strategies.  \n",
    "\n",
    "### Key tuning strategies  \n",
    "- **Number of trees (`n_estimators`)** → controls the number of boosting rounds; more trees can capture more patterns but risk overfitting.  \n",
    "- **Maximum depth (`max_depth`)** → limits the complexity of individual trees to improve generalisation.  \n",
    "- **Learning rate (`learning_rate`)** → shrinks the contribution of each tree, balancing underfitting and overfitting.  \n",
    "- **Subsampling (`subsample`)** → uses a fraction of the data per boosting round to reduce variance.  \n",
    "- **Column sampling (`colsample_bytree`)** → randomly selects a subset of features for each tree, improving robustness.  \n",
    "\n",
    "We apply **GridSearchCV** to systematically evaluate parameter combinations, using **macro-F1** as the scoring metric to ensure balanced performance across all CEFR levels.  \n",
    "\n",
    "This tuning step helps XGBoost achieve a better balance of **accuracy, fairness across classes, and generalisation**, while controlling the risk of overfitting.  "
   ]
  },
  {
   "cell_type": "code",
   "execution_count": 247,
   "id": "ea3fdc30",
   "metadata": {},
   "outputs": [
    {
     "name": "stdout",
     "output_type": "stream",
     "text": [
      "Fitting 5 folds for each of 32 candidates, totalling 160 fits\n"
     ]
    },
    {
     "name": "stderr",
     "output_type": "stream",
     "text": [
      "c:\\Users\\husse\\OneDrive\\Projects\\lang-level-pred\\.venv\\Lib\\site-packages\\xgboost\\training.py:183: UserWarning: [21:35:21] WARNING: C:\\actions-runner\\_work\\xgboost\\xgboost\\src\\learner.cc:738: \n",
      "Parameters: { \"use_label_encoder\" } are not used.\n",
      "\n",
      "  bst.update(dtrain, iteration=i, fobj=obj)\n"
     ]
    },
    {
     "name": "stdout",
     "output_type": "stream",
     "text": [
      "✅ Best params (XGB): {'xgb__colsample_bytree': 1.0, 'xgb__learning_rate': 0.05, 'xgb__max_depth': 4, 'xgb__n_estimators': 200, 'xgb__subsample': 0.8}\n",
      "✅ Best CV f1_macro (XGB): 0.6807387976590374\n",
      "\n",
      "Test Accuracy (XGB): 0.7611940298507462\n",
      "\n",
      "Classification Report (XGB):\n",
      "               precision    recall  f1-score   support\n",
      "\n",
      "           0       0.98      0.95      0.96        42\n",
      "           1       0.80      0.89      0.84        44\n",
      "           2       0.84      0.74      0.78        42\n",
      "           3       0.84      0.71      0.77        38\n",
      "           4       0.33      0.42      0.37        19\n",
      "           5       0.44      0.50      0.47        16\n",
      "\n",
      "    accuracy                           0.76       201\n",
      "   macro avg       0.71      0.70      0.70       201\n",
      "weighted avg       0.78      0.76      0.77       201\n",
      "\n",
      "Saved tuned model to xgboost_tuned_pipeline.joblib\n"
     ]
    }
   ],
   "source": [
    "# Hyperparameter tuning for XGBoost (GridSearchCV)\n",
    "from xgboost import XGBClassifier\n",
    "from sklearn.model_selection import GridSearchCV\n",
    "from sklearn.metrics import accuracy_score, classification_report, confusion_matrix\n",
    "import matplotlib.pyplot as plt\n",
    "import seaborn as sns\n",
    "import joblib\n",
    "\n",
    "# Pipeline (just the model, since preprocessing was already handled)\n",
    "xgb_pipeline = Pipeline([\n",
    "    (\"xgb\", XGBClassifier(\n",
    "        objective=\"multi:softmax\",   # predict class labels directly\n",
    "        num_class=len(set(y_train)), # number of CEFR levels\n",
    "        random_state=42,\n",
    "        n_jobs=-1,\n",
    "        eval_metric=\"mlogloss\",\n",
    "        use_label_encoder=False\n",
    "    ))\n",
    "])\n",
    "\n",
    "# Parameter grid (kept small but meaningful)\n",
    "xgb_param_grid = {\n",
    "    \"xgb__n_estimators\": [200, 300],\n",
    "    \"xgb__max_depth\": [4, 6],\n",
    "    \"xgb__learning_rate\": [0.05, 0.1],\n",
    "    \"xgb__subsample\": [0.8, 1.0],\n",
    "    \"xgb__colsample_bytree\": [0.8, 1.0]\n",
    "}\n",
    "\n",
    "# GridSearchCV: optimise macro-F1\n",
    "xgb_grid = GridSearchCV(\n",
    "    estimator=xgb_pipeline,\n",
    "    param_grid=xgb_param_grid,\n",
    "    scoring=\"f1_macro\",\n",
    "    cv=5,\n",
    "    n_jobs=-1,\n",
    "    verbose=2\n",
    ")\n",
    "\n",
    "# Fit\n",
    "xgb_grid.fit(X_train_processed, y_train)\n",
    "\n",
    "# Best params & CV score\n",
    "print(\"✅ Best params (XGB):\", xgb_grid.best_params_)\n",
    "print(\"✅ Best CV f1_macro (XGB):\", xgb_grid.best_score_)\n",
    "\n",
    "# Evaluate best estimator on the test set\n",
    "xgb_best_model = xgb_grid.best_estimator_\n",
    "xgb_y_pred = xgb_best_model.predict(X_test_processed)\n",
    "\n",
    "print(\"\\nTest Accuracy (XGB):\", accuracy_score(y_test, xgb_y_pred))\n",
    "print(\"\\nClassification Report (XGB):\\n\", classification_report(y_test, xgb_y_pred))\n",
    "\n",
    "# Save the tuned pipeline\n",
    "joblib.dump(xgb_best_model, \"xgboost_tuned_pipeline.joblib\")\n",
    "print(\"Saved tuned model to xgboost_tuned_pipeline.joblib\")\n",
    "\n"
   ]
  },
  {
   "cell_type": "markdown",
   "id": "b420e9b5",
   "metadata": {},
   "source": [
    "## 9. Cross-Validation: Logistic Regression (Out-of-Sample Evaluation)  \n",
    "\n",
    "To ensure the tuned Logistic Regression model generalises well and is not overfitting the training data, we perform **cross-validation** using `cross_val_predict`.  \n",
    "This approach generates **out-of-sample predictions for each fold**, giving a more realistic estimate of model performance than in-sample evaluation.  \n",
    "\n",
    "### Key evaluation steps  \n",
    "- **5-Fold Cross-Validation** → train on 80% of the data and validate on 20%, repeated across folds.  \n",
    "- **Macro-F1 scoring** → chosen to ensure balanced performance across all CEFR levels, even under class imbalance.  \n",
    "- **Confusion matrix** → visualises per-class errors and highlights where misclassifications occur.  \n",
    "\n",
    "This confirms that the Logistic Regression model delivers **consistent and reliable performance** across different splits of the dataset, making it suitable for deployment.  "
   ]
  },
  {
   "cell_type": "code",
   "execution_count": 225,
   "id": "ce545abc",
   "metadata": {},
   "outputs": [
    {
     "name": "stdout",
     "output_type": "stream",
     "text": [
      "\n",
      "📊 Cross-Fitting Results (Training Data, Out-of-Sample)\n",
      "Accuracy: 0.772104607721046\n",
      "\n",
      "Classification Report:\n",
      "               precision    recall  f1-score   support\n",
      "\n",
      "           0       1.00      0.92      0.96       166\n",
      "           1       0.75      0.98      0.85       175\n",
      "           2       0.96      0.69      0.80       166\n",
      "           3       0.84      0.75      0.79       154\n",
      "           4       0.44      0.45      0.44        75\n",
      "           5       0.36      0.48      0.41        67\n",
      "\n",
      "    accuracy                           0.77       803\n",
      "   macro avg       0.73      0.71      0.71       803\n",
      "weighted avg       0.80      0.77      0.78       803\n",
      "\n"
     ]
    },
    {
     "data": {
      "image/png": "[encoded data removed]",
      "text/plain": [
       "<Figure size 700x600 with 2 Axes>"
      ]
     },
     "metadata": {},
     "output_type": "display_data"
    }
   ],
   "source": [
    "from sklearn.model_selection import cross_val_predict\n",
    "from sklearn.metrics import accuracy_score, classification_report, confusion_matrix\n",
    "import matplotlib.pyplot as plt\n",
    "import seaborn as sns\n",
    "\n",
    "# Cross-fitting predictions on training set\n",
    "y_train_pred = cross_val_predict(best_model, X_train_processed, y_train, cv=5, n_jobs=-1)\n",
    "\n",
    "print(\"\\n📊 Cross-Fitting Results (Training Data, Out-of-Sample)\")\n",
    "print(\"Accuracy:\", accuracy_score(y_train, y_train_pred))\n",
    "print(\"\\nClassification Report:\\n\", classification_report(y_train, y_train_pred))\n",
    "\n",
    "cm_train = confusion_matrix(y_train, y_train_pred)\n",
    "plt.figure(figsize=(7,6))\n",
    "sns.heatmap(cm_train, annot=True, fmt=\"d\", cmap=\"Blues\",\n",
    "            xticklabels=best_model.named_steps[\"log_reg\"].classes_,\n",
    "            yticklabels=best_model.named_steps[\"log_reg\"].classes_)\n",
    "plt.xlabel(\"Predicted\")\n",
    "plt.ylabel(\"Actual\")\n",
    "plt.title(\"Confusion Matrix - Logistic Regression (Cross-Fitting)\")\n",
    "plt.show()\n"
   ]
  },
  {
   "cell_type": "markdown",
   "id": "1417dea5",
   "metadata": {},
   "source": [
    "## 10. Cross-Validation: Random Forest (Out-of-Sample Evaluation)  \n",
    "\n",
    "To check whether the tuned Random Forest model generalises well and does not overfit the training data, we perform **cross-validation** using `cross_val_predict`.  \n",
    "This generates **out-of-sample predictions for each fold**, giving a more realistic estimate of model performance than in-sample evaluation.  \n",
    "\n",
    "### Key evaluation steps  \n",
    "- **5-Fold Cross-Validation** → train on 80% of the data and validate on 20%, repeated across folds.  \n",
    "- **Macro-F1 scoring** → chosen to ensure balanced performance across all CEFR levels, even under class imbalance.  \n",
    "- **Confusion matrix** → visualises per-class errors and highlights where misclassifications occur.  \n",
    "\n",
    "This confirms that the Random Forest model provides **stable performance across folds**, though with slightly lower macro-F1 compared to Logistic Regression. This suggests that while Random Forest can capture non-linear relationships, it may be more affected by class imbalance.  "
   ]
  },
  {
   "cell_type": "code",
   "execution_count": 226,
   "id": "a57cfd2e",
   "metadata": {},
   "outputs": [
    {
     "name": "stdout",
     "output_type": "stream",
     "text": [
      "Cross-Validated Accuracy (RF): 0.772104607721046\n",
      "Cross-Validated Macro-F1 (RF): 0.7103658624302085\n",
      "\n",
      "Classification Report (RF, CV):\n",
      "               precision    recall  f1-score   support\n",
      "\n",
      "           0       0.99      0.92      0.95       166\n",
      "           1       0.76      0.95      0.85       175\n",
      "           2       0.92      0.73      0.82       166\n",
      "           3       0.89      0.73      0.80       154\n",
      "           4       0.41      0.53      0.46        75\n",
      "           5       0.36      0.40      0.38        67\n",
      "\n",
      "    accuracy                           0.77       803\n",
      "   macro avg       0.72      0.71      0.71       803\n",
      "weighted avg       0.80      0.77      0.78       803\n",
      "\n"
     ]
    },
    {
     "data": {
      "image/png": "[encoded data removed]",
      "text/plain": [
       "<Figure size 700x600 with 2 Axes>"
      ]
     },
     "metadata": {},
     "output_type": "display_data"
    }
   ],
   "source": [
    "# Cross-Validation: Random Forest (Out-of-Sample Evaluation)\n",
    "from sklearn.model_selection import cross_val_predict\n",
    "from sklearn.metrics import f1_score, classification_report, confusion_matrix, accuracy_score\n",
    "import matplotlib.pyplot as plt\n",
    "import seaborn as sns\n",
    "\n",
    "# Use the tuned Random Forest model from GridSearchCV\n",
    "rf_best_model = rf_grid.best_estimator_\n",
    "\n",
    "# Generate cross-validated predictions\n",
    "rf_cv_pred = cross_val_predict(\n",
    "    rf_best_model, X_train_processed, y_train, cv=5, n_jobs=-1\n",
    ")\n",
    "\n",
    "# Evaluation metrics\n",
    "print(\"Cross-Validated Accuracy (RF):\", accuracy_score(y_train, rf_cv_pred))\n",
    "print(\"Cross-Validated Macro-F1 (RF):\", f1_score(y_train, rf_cv_pred, average=\"macro\"))\n",
    "print(\"\\nClassification Report (RF, CV):\\n\", classification_report(y_train, rf_cv_pred))\n",
    "\n",
    "# Confusion matrix\n",
    "rf_cv_cm = confusion_matrix(y_train, rf_cv_pred)\n",
    "plt.figure(figsize=(7,6))\n",
    "sns.heatmap(rf_cv_cm, annot=True, fmt=\"d\", cmap=\"Blues\",\n",
    "            xticklabels=rf_best_model.named_steps[\"rf\"].classes_,\n",
    "            yticklabels=rf_best_model.named_steps[\"rf\"].classes_)\n",
    "plt.xlabel(\"Predicted\")\n",
    "plt.ylabel(\"Actual\")\n",
    "plt.title(\"Confusion Matrix - Random Forest (Cross-Validation)\")\n",
    "plt.show()\n"
   ]
  },
  {
   "cell_type": "markdown",
   "id": "d8a4d8bf",
   "metadata": {},
   "source": [
    "## 11. Cross-Validation: XGBoost (Out-of-Sample Evaluation)  \n",
    "\n",
    "To ensure the tuned XGBoost model generalises well and is not overfitting the training data, we perform **cross-validation** using `cross_val_predict`.  \n",
    "This produces **out-of-sample predictions for each fold**, giving a more realistic estimate of performance compared to in-sample evaluation.  \n",
    "\n",
    "### Key evaluation steps  \n",
    "- **5-Fold Cross-Validation** → train on 80% of the data and validate on 20%, repeated across folds.  \n",
    "- **Macro-F1 scoring** → chosen to reflect balanced performance across all CEFR levels, regardless of class imbalance.  \n",
    "- **Confusion matrix** → highlights per-class misclassifications and model biases.  \n",
    "\n",
    "This confirms that while XGBoost delivers consistent performance across folds, its macro-F1 is generally comparable to Random Forest but still lower than Logistic Regression. This indicates that increased model complexity did not translate into superior generalisation for this dataset.  \n"
   ]
  },
  {
   "cell_type": "code",
   "execution_count": 245,
   "id": "aca1e3d1",
   "metadata": {},
   "outputs": [
    {
     "name": "stdout",
     "output_type": "stream",
     "text": [
      "Cross-Validated Accuracy (XGB): 0.7496886674968867\n",
      "Cross-Validated Macro-F1 (XGB): 0.6822820942527458\n",
      "\n",
      "Classification Report (XGB, CV):\n",
      "               precision    recall  f1-score   support\n",
      "\n",
      "           0       0.97      0.92      0.94       166\n",
      "           1       0.76      0.90      0.83       175\n",
      "           2       0.88      0.72      0.79       166\n",
      "           3       0.75      0.75      0.75       154\n",
      "           4       0.36      0.43      0.39        75\n",
      "           5       0.41      0.37      0.39        67\n",
      "\n",
      "    accuracy                           0.75       803\n",
      "   macro avg       0.69      0.68      0.68       803\n",
      "weighted avg       0.76      0.75      0.75       803\n",
      "\n"
     ]
    },
    {
     "data": {
      "image/png": "[encoded data removed]",
      "text/plain": [
       "<Figure size 700x600 with 2 Axes>"
      ]
     },
     "metadata": {},
     "output_type": "display_data"
    }
   ],
   "source": [
    "# Cross-Validation: XGBoost (Out-of-Sample Evaluation)\n",
    "from sklearn.model_selection import cross_val_predict\n",
    "from sklearn.metrics import f1_score, classification_report, confusion_matrix, accuracy_score\n",
    "import matplotlib.pyplot as plt\n",
    "import seaborn as sns\n",
    "\n",
    "# Use the tuned XGBoost model from GridSearchCV\n",
    "xgb_best_model = xgb_grid.best_estimator_\n",
    "\n",
    "# Generate cross-validated predictions\n",
    "xgb_cv_pred = cross_val_predict(\n",
    "    xgb_best_model, X_train_processed, y_train, cv=5, n_jobs=-1\n",
    ")\n",
    "\n",
    "# Evaluation metrics\n",
    "print(\"Cross-Validated Accuracy (XGB):\", accuracy_score(y_train, xgb_cv_pred))\n",
    "print(\"Cross-Validated Macro-F1 (XGB):\", f1_score(y_train, xgb_cv_pred, average=\"macro\"))\n",
    "print(\"\\nClassification Report (XGB, CV):\\n\", classification_report(y_train, xgb_cv_pred))\n",
    "\n",
    "# Confusion matrix\n",
    "xgb_cv_cm = confusion_matrix(y_train, xgb_cv_pred)\n",
    "plt.figure(figsize=(7,6))\n",
    "sns.heatmap(xgb_cv_cm, annot=True, fmt=\"d\", cmap=\"Blues\",\n",
    "            xticklabels=xgb_best_model.named_steps[\"xgb\"].classes_,\n",
    "            yticklabels=xgb_best_model.named_steps[\"xgb\"].classes_)\n",
    "plt.xlabel(\"Predicted\")\n",
    "plt.ylabel(\"Actual\")\n",
    "plt.title(\"Confusion Matrix - XGBoost (Cross-Validation)\")\n",
    "plt.show()\n"
   ]
  },
  {
   "cell_type": "markdown",
   "id": "6f4d35f2",
   "metadata": {},
   "source": [
    "## 12. Model Performance Comparison *(Tuned Models — Test Set)*\n",
    "\n",
    "This section compares the **tuned pipelines** (Logistic Regression, Random Forest, XGBoost) on the **hold-out test set** using the engineered, leakage-free features.  \n",
    "Cross-validation results are shown separately as a **generalisation check**; the head-to-head decision is based **only on test-set performance**.\n",
    "\n",
    "**Metrics**\n",
    "- **Accuracy** – overall proportion of correct predictions.  \n",
    "- **Macro-F1** – class-balanced F1 (primary fairness metric across CEFR levels).  \n",
    "- **Weighted-F1** – F1 weighted by class frequency (reflects performance on majority classes).\n",
    "\n",
    "**Outputs in this section**\n",
    "1. **Bar plot** – side-by-side Accuracy, Macro-F1 and Weighted-F1 for each model.  \n",
    "2. **Performance table** – raw metric values (3 decimals) for clarity.\n",
    "\n",
    "**Decision rule**\n",
    "- Select the model with the **highest Macro-F1**; use **Accuracy** as the tie-breaker.  \n",
    "- Compare results to the project targets (e.g., **Accuracy ≥ 0.75**, **Macro-F1 ≥ 0.70**) and state whether they are met.\n",
    "\n",
    "Together, the plot and table provide a **holistic view** of model quality—capturing both overall correctness and **fairness across CEFR levels**—and support the final model selection.\n",
    "\n",
    "*Next: we summarise 5-fold cross-validation to confirm generalisation.*"
   ]
  },
  {
   "cell_type": "code",
   "execution_count": 243,
   "id": "a8971e14",
   "metadata": {},
   "outputs": [
    {
     "data": {
      "image/png": "[encoded data removed]",
      "text/plain": [
       "<Figure size 1800x500 with 6 Axes>"
      ]
     },
     "metadata": {},
     "output_type": "display_data"
    },
    {
     "name": "stdout",
     "output_type": "stream",
     "text": [
      "\n",
      "=== Logistic Regression — Classification Report (TEST) ===\n",
      "\n",
      "              precision    recall  f1-score   support\n",
      "\n",
      "           0       1.00      0.95      0.98        42\n",
      "           1       0.77      1.00      0.87        44\n",
      "           2       1.00      0.69      0.82        42\n",
      "           3       0.90      0.68      0.78        38\n",
      "           4       0.29      0.21      0.24        19\n",
      "           5       0.38      0.75      0.50        16\n",
      "\n",
      "    accuracy                           0.77       201\n",
      "   macro avg       0.72      0.71      0.70       201\n",
      "weighted avg       0.81      0.77      0.77       201\n",
      "\n",
      "\n",
      "=== Random Forest — Classification Report (TEST) ===\n",
      "\n",
      "              precision    recall  f1-score   support\n",
      "\n",
      "           0       1.00      0.95      0.98        42\n",
      "           1       0.79      0.95      0.87        44\n",
      "           2       0.88      0.71      0.79        42\n",
      "           3       0.92      0.63      0.75        38\n",
      "           4       0.18      0.21      0.20        19\n",
      "           5       0.27      0.44      0.33        16\n",
      "\n",
      "    accuracy                           0.73       201\n",
      "   macro avg       0.67      0.65      0.65       201\n",
      "weighted avg       0.78      0.73      0.75       201\n",
      "\n",
      "\n",
      "=== XGBoost — Classification Report (TEST) ===\n",
      "\n",
      "              precision    recall  f1-score   support\n",
      "\n",
      "           0       0.98      0.95      0.96        42\n",
      "           1       0.80      0.89      0.84        44\n",
      "           2       0.84      0.74      0.78        42\n",
      "           3       0.84      0.71      0.77        38\n",
      "           4       0.33      0.42      0.37        19\n",
      "           5       0.44      0.50      0.47        16\n",
      "\n",
      "    accuracy                           0.76       201\n",
      "   macro avg       0.71      0.70      0.70       201\n",
      "weighted avg       0.78      0.76      0.77       201\n",
      "\n"
     ]
    },
    {
     "data": {
      "text/html": [
       "<div>\n",
       "<style scoped>\n",
       "    .dataframe tbody tr th:only-of-type {\n",
       "        vertical-align: middle;\n",
       "    }\n",
       "\n",
       "    .dataframe tbody tr th {\n",
       "        vertical-align: top;\n",
       "    }\n",
       "\n",
       "    .dataframe thead th {\n",
       "        text-align: right;\n",
       "    }\n",
       "</style>\n",
       "<table border=\"1\" class=\"dataframe\">\n",
       "  <thead>\n",
       "    <tr style=\"text-align: right;\">\n",
       "      <th></th>\n",
       "      <th>Accuracy</th>\n",
       "      <th>F1 (macro)</th>\n",
       "      <th>F1 (weighted)</th>\n",
       "    </tr>\n",
       "  </thead>\n",
       "  <tbody>\n",
       "    <tr>\n",
       "      <th>Logistic Regression</th>\n",
       "      <td>0.771</td>\n",
       "      <td>0.697</td>\n",
       "      <td>0.775</td>\n",
       "    </tr>\n",
       "    <tr>\n",
       "      <th>Random Forest</th>\n",
       "      <td>0.731</td>\n",
       "      <td>0.652</td>\n",
       "      <td>0.745</td>\n",
       "    </tr>\n",
       "    <tr>\n",
       "      <th>XGBoost</th>\n",
       "      <td>0.761</td>\n",
       "      <td>0.700</td>\n",
       "      <td>0.767</td>\n",
       "    </tr>\n",
       "  </tbody>\n",
       "</table>\n",
       "</div>"
      ],
      "text/plain": [
       "                     Accuracy  F1 (macro)  F1 (weighted)\n",
       "Logistic Regression     0.771       0.697          0.775\n",
       "Random Forest           0.731       0.652          0.745\n",
       "XGBoost                 0.761       0.700          0.767"
      ]
     },
     "metadata": {},
     "output_type": "display_data"
    },
    {
     "data": {
      "image/png": "[encoded data removed]",
      "text/plain": [
       "<Figure size 800x500 with 1 Axes>"
      ]
     },
     "metadata": {},
     "output_type": "display_data"
    }
   ],
   "source": [
    "# === Final Test-Set Evaluation & Comparison (tuned models) ===\n",
    "import numpy as np, pandas as pd, matplotlib.pyplot as plt, seaborn as sns\n",
    "from sklearn.metrics import accuracy_score, f1_score, classification_report, confusion_matrix\n",
    "\n",
    "# 1) Collect tuned models (ensure these exist from your tuning cells)\n",
    "models = {\n",
    "    \"Logistic Regression\": best_model,     # from LR GridSearchCV\n",
    "    \"Random Forest\":       rf_best_model,  # from RF GridSearchCV\n",
    "    \"XGBoost\":             xgb_best_model, # from XGB GridSearchCV\n",
    "}\n",
    "\n",
    "# 2) Evaluate on TEST set, plot all confusion matrices together\n",
    "labels = sorted(np.unique(y_test))\n",
    "results = {}\n",
    "pred_cache = {}\n",
    "\n",
    "fig, axes = plt.subplots(1, 3, figsize=(18, 5))\n",
    "for ax, (name, model) in zip(axes, models.items()):\n",
    "    y_pred = model.predict(X_test_processed)\n",
    "    pred_cache[name] = y_pred  # keep if you want to print reports later\n",
    "\n",
    "    results[name] = {\n",
    "        \"Accuracy\":      accuracy_score(y_test, y_pred),\n",
    "        \"F1 (macro)\":    f1_score(y_test, y_pred, average=\"macro\"),\n",
    "        \"F1 (weighted)\": f1_score(y_test, y_pred, average=\"weighted\"),\n",
    "    }\n",
    "\n",
    "    cm = confusion_matrix(y_test, y_pred, labels=labels)\n",
    "    sns.heatmap(cm, annot=True, fmt=\"d\", cmap=\"Blues\",\n",
    "                xticklabels=labels, yticklabels=labels, ax=ax)\n",
    "    ax.set_title(f\"{name} — Confusion Matrix\")\n",
    "    ax.set_xlabel(\"Predicted\"); ax.set_ylabel(\"Actual\")\n",
    "\n",
    "plt.tight_layout()\n",
    "plt.show()\n",
    "\n",
    "# (Optional) print classification reports once per model\n",
    "for name, y_pred in pred_cache.items():\n",
    "    print(f\"\\n=== {name} — Classification Report (TEST) ===\\n\")\n",
    "    print(classification_report(y_test, y_pred))\n",
    "\n",
    "# 3) Build one summary table\n",
    "results_df = pd.DataFrame(results).T\n",
    "display(results_df.round(3))\n",
    "\n",
    "# 4) Bar plot for the comparison\n",
    "plt.figure(figsize=(8, 5))\n",
    "sns.barplot(\n",
    "    data=results_df.reset_index().melt(id_vars=\"index\", var_name=\"Metric\", value_name=\"Score\"),\n",
    "    x=\"Score\", y=\"index\", hue=\"Metric\", palette=\"viridis\"\n",
    ")\n",
    "plt.title(\"Model Performance Comparison (Tuned Models — Test Set)\")\n",
    "plt.xlabel(\"Score\"); plt.ylabel(\"Model\")\n",
    "plt.legend(title=\"Metric\")\n",
    "plt.show()"
   ]
  },
  {
   "cell_type": "markdown",
   "id": "e7510312",
   "metadata": {},
   "source": [
    "### Insights from Tuned Model Comparison\n",
    "\n",
    "- **Logistic Regression is the top performer overall.**  \n",
    "  - Acc **0.77**, Macro-F1 **0.70**, Weighted-F1 **0.78**.  \n",
    "  - vs **XGBoost**: +0.01 Acc, +0.01 Weighted-F1 (Macro-F1 is tied at 0.70).  \n",
    "  - vs **Random Forest**: +0.03 Acc, +0.04 Macro-F1, +0.04 Weighted-F1.\n",
    "\n",
    "- **XGBoost is a close second**, matching LR on **Macro-F1 (0.70)** and only slightly behind on Acc/Weighted-F1 (0.76 / 0.77).  \n",
    "  - This suggests some non-linear structure exists, but the extra complexity doesn’t translate into a clear advantage.\n",
    "\n",
    "- **Random Forest trails** (Acc **0.74**, Macro-F1 **0.66**, Weighted-F1 **0.74**).  \n",
    "  - The **larger gap** between Macro-F1 (0.66) and Weighted-F1 (0.74) indicates more bias toward majority classes and weaker performance on under-represented CEFR levels.\n",
    "\n",
    "- **Fairness signal:**  \n",
    "  - For **LR** and **XGB**, Macro-F1 is relatively close to Weighted-F1 (≈0.70 vs 0.77–0.78), implying more balanced class performance.  \n",
    "  - **RF** shows the biggest disparity → less balanced across CEFR levels.\n",
    "\n",
    "- **Practical takeaway:**  \n",
    "  - With the **best overall scores** and **simplest, most interpretable** behaviour, **Logistic Regression** remains the recommended model for deployment.  \n",
    "  - **XGBoost** can be retained as a secondary benchmark; RF is less suitable under current features/tuning."
   ]
  },
  {
   "cell_type": "markdown",
   "id": "d58c5c13",
   "metadata": {},
   "source": [
    "## 13. Cross-Validation Summary *(cv=5, out-of-fold)*\n",
    "\n",
    "This section aggregates **out-of-fold metrics** from 5-fold cross-validation for each **tuned** model using `cross_val_predict` on the **training set**.  \n",
    "These results provide a **generalisation check** and guard against overfitting.  \n",
    "The **final head-to-head selection** is based on the **hold-out test-set** metrics (Step 12).\n",
    "\n",
    "**Reported metrics:** CV Accuracy, CV Macro-F1, CV Weighted-F1."
   ]
  },
  {
   "cell_type": "code",
   "execution_count": 242,
   "id": "b5b83cda",
   "metadata": {},
   "outputs": [
    {
     "data": {
      "text/html": [
       "<div>\n",
       "<style scoped>\n",
       "    .dataframe tbody tr th:only-of-type {\n",
       "        vertical-align: middle;\n",
       "    }\n",
       "\n",
       "    .dataframe tbody tr th {\n",
       "        vertical-align: top;\n",
       "    }\n",
       "\n",
       "    .dataframe thead th {\n",
       "        text-align: right;\n",
       "    }\n",
       "</style>\n",
       "<table border=\"1\" class=\"dataframe\">\n",
       "  <thead>\n",
       "    <tr style=\"text-align: right;\">\n",
       "      <th></th>\n",
       "      <th>CV Accuracy</th>\n",
       "      <th>CV Macro-F1</th>\n",
       "      <th>CV Weighted-F1</th>\n",
       "    </tr>\n",
       "  </thead>\n",
       "  <tbody>\n",
       "    <tr>\n",
       "      <th>Logistic Regression</th>\n",
       "      <td>0.772</td>\n",
       "      <td>0.710</td>\n",
       "      <td>0.778</td>\n",
       "    </tr>\n",
       "    <tr>\n",
       "      <th>Random Forest</th>\n",
       "      <td>0.772</td>\n",
       "      <td>0.710</td>\n",
       "      <td>0.779</td>\n",
       "    </tr>\n",
       "    <tr>\n",
       "      <th>XGBoost</th>\n",
       "      <td>0.750</td>\n",
       "      <td>0.682</td>\n",
       "      <td>0.752</td>\n",
       "    </tr>\n",
       "  </tbody>\n",
       "</table>\n",
       "</div>"
      ],
      "text/plain": [
       "                     CV Accuracy  CV Macro-F1  CV Weighted-F1\n",
       "Logistic Regression        0.772        0.710           0.778\n",
       "Random Forest              0.772        0.710           0.779\n",
       "XGBoost                    0.750        0.682           0.752"
      ]
     },
     "metadata": {},
     "output_type": "display_data"
    },
    {
     "data": {
      "image/png": "[encoded data removed]",
      "text/plain": [
       "<Figure size 800x500 with 1 Axes>"
      ]
     },
     "metadata": {},
     "output_type": "display_data"
    }
   ],
   "source": [
    "# === Cross-Validation Summary (Out-of-Fold on TRAIN, cv=5) ===\n",
    "import pandas as pd\n",
    "from sklearn.metrics import accuracy_score, f1_score\n",
    "import matplotlib.pyplot as plt\n",
    "import seaborn as sns\n",
    "\n",
    "cv_results = {\n",
    "    \"Logistic Regression\": {\n",
    "        \"CV Accuracy\":     accuracy_score(y_train, y_train_pred),\n",
    "        \"CV Macro-F1\":     f1_score(y_train, y_train_pred, average=\"macro\"),\n",
    "        \"CV Weighted-F1\":  f1_score(y_train, y_train_pred, average=\"weighted\"),\n",
    "    },\n",
    "    \"Random Forest\": {\n",
    "        \"CV Accuracy\":     accuracy_score(y_train, rf_cv_pred),\n",
    "        \"CV Macro-F1\":     f1_score(y_train, rf_cv_pred, average=\"macro\"),\n",
    "        \"CV Weighted-F1\":  f1_score(y_train, rf_cv_pred, average=\"weighted\"),\n",
    "    },\n",
    "    \"XGBoost\": {\n",
    "        \"CV Accuracy\":     accuracy_score(y_train, xgb_cv_pred),\n",
    "        \"CV Macro-F1\":     f1_score(y_train, xgb_cv_pred, average=\"macro\"),\n",
    "        \"CV Weighted-F1\":  f1_score(y_train, xgb_cv_pred, average=\"weighted\"),\n",
    "    },\n",
    "}\n",
    "\n",
    "cv_df = pd.DataFrame(cv_results).T.round(3)\n",
    "display(cv_df)\n",
    "\n",
    "# Optional bar plot\n",
    "plt.figure(figsize=(8,5))\n",
    "sns.barplot(\n",
    "    data=cv_df.reset_index().melt(id_vars=\"index\", var_name=\"Metric\", value_name=\"Score\"),\n",
    "    x=\"Score\", y=\"index\", hue=\"Metric\"\n",
    ")\n",
    "plt.title(\"Cross-Validation Summary (Out-of-Fold, cv=5)\")\n",
    "plt.xlabel(\"Score\"); plt.ylabel(\"Model\")\n",
    "plt.legend(title=\"Metric\")\n",
    "plt.show()"
   ]
  },
  {
   "cell_type": "markdown",
   "id": "0d1eb277",
   "metadata": {},
   "source": [
    "### Cross-Validation Summary — Key Insights (cv=5, out-of-fold)\n",
    "\n",
    "- **Logistic Regression and Random Forest tie under CV**  \n",
    "  CV Acc **0.772**, CV Macro-F1 **0.710** (Weighted-F1 ≈ **0.778–0.779**).  \n",
    "  → Indicates similar, stable generalisation with the engineered features.\n",
    "\n",
    "- **XGBoost trails**  \n",
    "  CV Acc **0.750**, CV Macro-F1 **0.682**, CV Weighted-F1 **0.752**.  \n",
    "  → Extra complexity didn’t yield better out-of-fold performance.\n",
    "\n",
    "- **Fairness signal**  \n",
    "  For all models, **Weighted-F1 > Macro-F1**, confirming class imbalance (minority CEFR levels are harder).\n",
    "\n",
    "- **Decision rule**  \n",
    "  Use **test-set metrics** for the head-to-head comparison; keep this CV table as **robustness evidence**.  \n",
    "  Given the test-set edge and simplicity/interpretability, **Logistic Regression** remains the final model."
   ]
  },
  {
   "cell_type": "markdown",
   "id": "6a19797d",
   "metadata": {},
   "source": [
    "---"
   ]
  },
  {
   "cell_type": "markdown",
   "id": "7da829ec",
   "metadata": {},
   "source": [
    "## 14. Final Model Selection  \n",
    "\n",
    "Based on the tuned **test-set** evaluation, **Logistic Regression** is selected for deployment.\n",
    "\n",
    "### Key findings  \n",
    "- **Top overall performance:**  \n",
    "  - **Logistic Regression:** Acc **0.77**, Macro-F1 **0.70**, Weighted-F1 **0.78**  \n",
    "  - **XGBoost:** Acc **0.76**, Macro-F1 **0.70**, Weighted-F1 **0.77**  \n",
    "  - **Random Forest:** Acc **0.74**, Macro-F1 **0.66**, Weighted-F1 **0.74**\n",
    "- **Fairness across CEFR levels:**  \n",
    "  - **Macro-F1 is highest (tied) for LR and XGB (0.70)**, but LR edges XGB on Accuracy and Weighted-F1, indicating slightly better balance without favouring majority classes.  \n",
    "  - RF shows the largest gap between Macro-F1 and Weighted-F1 (0.66 vs 0.74), suggesting weaker performance on under-represented levels.\n",
    "- **Generalisation (CV, out-of-fold):**  \n",
    "  - **LR and RF tie** under CV (Acc **0.772**, Macro-F1 **0.710**); **XGB trails** (Acc **0.750**, Macro-F1 **0.682**).  \n",
    "  - This confirms the models aren’t overfitting; LR maintains a slight edge when evaluated on the hold-out test set.\n",
    "- **Interpretability & efficiency:**  \n",
    "  - LR is simpler and more interpretable than tree-based ensembles, aligning with stakeholder needs and making deployment lighter.\n",
    "\n",
    "### Conclusion  \n",
    "Although Random Forest and XGBoost are strong baselines, their additional complexity did **not** produce a clear advantage on this dataset. **Logistic Regression** offers the best combination of **accuracy, fairness (Macro-F1), generalisation, and interpretability**.  \n",
    "**Final choice:** Deploy **Logistic Regression** (saved pipeline) for CEFR prediction in the dashboard."
   ]
  },
  {
   "cell_type": "markdown",
   "id": "9376f60d",
   "metadata": {},
   "source": [
    "## 15. Saving the Final Model  \n",
    "\n",
    "To enable deployment and future use, we save the **final trained Logistic Regression model** along with the **preprocessing pipeline**.  \n",
    "This ensures that raw user input can be transformed consistently before predictions are made in the dashboard application.  "
   ]
  },
  {
   "cell_type": "code",
   "execution_count": 207,
   "id": "c934320f",
   "metadata": {},
   "outputs": [
    {
     "name": "stdout",
     "output_type": "stream",
     "text": [
      "✅ Model saved to final_logistic_regression_pipeline.pkl\n"
     ]
    },
    {
     "data": {
      "text/plain": [
       "['preprocessing_pipeline.pkl']"
      ]
     },
     "execution_count": 207,
     "metadata": {},
     "output_type": "execute_result"
    }
   ],
   "source": [
    "import joblib\n",
    "\n",
    "# Save the best Logistic Regression model (from GridSearchCV)\n",
    "joblib.dump(grid.best_estimator_, \"final_logistic_regression_pipeline.pkl\")\n",
    "print(\"✅ Model saved to final_logistic_regression_pipeline.pkl\")\n",
    "\n",
    "# Save the preprocessing pipeline\n",
    "joblib.dump(preprocessor, \"preprocessing_pipeline.pkl\")"
   ]
  }
 ],
 "metadata": {
  "kernelspec": {
   "display_name": ".venv",
   "language": "python",
   "name": "python3"
  },
  "language_info": {
   "codemirror_mode": {
    "name": "ipython",
    "version": 3
   },
   "file_extension": ".py",
   "mimetype": "text/x-python",
   "name": "python",
   "nbconvert_exporter": "python",
   "pygments_lexer": "ipython3",
   "version": "3.13.2"
  }
 },
 "nbformat": 4,
 "nbformat_minor": 5
}

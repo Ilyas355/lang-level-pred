{
 "cells": [
  {
   "cell_type": "markdown",
   "id": "6ebf79c1",
   "metadata": {},
   "source": [
    "# 05. Modelling and evaluation"
   ]
  },
  {
   "cell_type": "markdown",
   "id": "99ac5cb3",
   "metadata": {},
   "source": [
    "## Objectives\n",
    "\n",
    "The purpose of this notebook is to train, evaluate, and interpret machine learning models that predict **CEFR levels** based on learners’ language proficiency scores and engineered features. Specifically, we aim to:\n",
    "\n",
    "- Train classification models using the processed dataset (numeric + categorical engineered features).  \n",
    "- Compare model performance across multiple algorithms (e.g., Logistic Regression, Random Forest, Gradient Boosting).  \n",
    "- Evaluate models using accuracy, precision, recall, F1-score, and confusion matrices to assess classification reliability.  \n",
    "- Select the best-performing model for deployment and future integration into a personalized recommendation system.  \n",
    "- Save the trained model and evaluation results for reproducibility and downstream use.  \n",
    "\n",
    "\n",
    "## Inputs\n",
    "\n",
    "- **Processed dataset**: `data/processed/features.csv`  \n",
    "  - Includes original skill scores, engineered features (e.g., strongest/weakest skill, profile type), and encoded CEFR target variable.  \n",
    "- **Feature matrix (X)**: Scaled numeric features + encoded categorical engineered features.  \n",
    "- **Target vector (y)**: Encoded CEFR levels (A1–C2).  \n",
    "\n",
    "\n",
    "## Outputs\n",
    "\n",
    "- Trained machine learning models (baseline + advanced).  \n",
    "- Evaluation metrics (accuracy, precision, recall, F1-score, confusion matrix).  \n",
    "- Visualizations of model performance.  \n",
    "- Final selected model, serialized (e.g., `model.joblib`) for reuse.  \n",
    "- Documentation of why the chosen model best supports the **business goal** of automatic learner placement.  \n",
    "\n",
    "\n",
    "## Additional Information\n",
    "\n",
    "This stage directly addresses the **business requirement**: predicting learners’ CEFR levels to enable **automatic placement** and **personalized learning recommendations**.  \n",
    "While the model outputs only the predicted CEFR level, the engineered features (skill strengths, weaknesses, balance profiles) provide the contextual insights needed for tailored feedback.  \n",
    "By rigorously evaluating different models and selecting the best one, we ensure predictions are not only accurate but also interpretable, reliable, and suitable for real-world integration into an adaptive learning platform.  "
   ]
  },
  {
   "cell_type": "markdown",
   "id": "a801c026",
   "metadata": {},
   "source": [
    "---"
   ]
  },
  {
   "cell_type": "markdown",
   "id": "a3eb9b54",
   "metadata": {},
   "source": [
    "# Project Directory Structure"
   ]
  },
  {
   "cell_type": "markdown",
   "id": "e7500c31",
   "metadata": {},
   "source": [
    "## Change working directory\n",
    "\n",
    "We need to change the working directory from its current folder to the folder the code of this project is currently located"
   ]
  },
  {
   "cell_type": "code",
   "execution_count": 1,
   "id": "849c2560",
   "metadata": {},
   "outputs": [
    {
     "data": {
      "text/plain": [
       "'c:\\\\Users\\\\husse\\\\OneDrive\\\\Projects\\\\lang-level-pred\\\\jupyter_notebooks'"
      ]
     },
     "execution_count": 1,
     "metadata": {},
     "output_type": "execute_result"
    }
   ],
   "source": [
    "import os\n",
    "current_dir = os.getcwd()\n",
    "current_dir"
   ]
  },
  {
   "cell_type": "code",
   "execution_count": 2,
   "id": "5a8bbf12",
   "metadata": {},
   "outputs": [
    {
     "name": "stdout",
     "output_type": "stream",
     "text": [
      "Working directory: c:\\Users\\husse\\OneDrive\\Projects\\lang-level-pred\n"
     ]
    }
   ],
   "source": [
    "from pathlib import Path\n",
    "\n",
    "# swtich to project root directory\n",
    "project_root = Path.cwd().parent\n",
    "os.chdir(project_root)\n",
    "print(f\"Working directory: {os.getcwd()}\")"
   ]
  },
  {
   "cell_type": "markdown",
   "id": "a0feac2c",
   "metadata": {},
   "source": [
    "---"
   ]
  },
  {
   "cell_type": "markdown",
   "id": "50cd7968",
   "metadata": {},
   "source": []
  }
 ],
 "metadata": {
  "kernelspec": {
   "display_name": ".venv",
   "language": "python",
   "name": "python3"
  },
  "language_info": {
   "codemirror_mode": {
    "name": "ipython",
    "version": 3
   },
   "file_extension": ".py",
   "mimetype": "text/x-python",
   "name": "python",
   "nbconvert_exporter": "python",
   "pygments_lexer": "ipython3",
   "version": "3.13.2"
  }
 },
 "nbformat": 4,
 "nbformat_minor": 5
}

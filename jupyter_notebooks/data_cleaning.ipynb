{
 "cells": [
  {
   "cell_type": "markdown",
   "id": "cf2d5caa",
   "metadata": {},
   "source": [
    "# 02. Data Cleaning Notebook"
   ]
  },
  {
   "cell_type": "markdown",
   "id": "fa2484af",
   "metadata": {},
   "source": [
    "## Objectives\n",
    "- \n",
    "\n",
    "## Inputs\n",
    "- \n",
    "\n",
    "## Outputs\n",
    "- \n",
    "\n",
    "## Additional information\n",
    "- "
   ]
  },
  {
   "cell_type": "markdown",
   "id": "29cf875c",
   "metadata": {},
   "source": [
    "---"
   ]
  }
 ],
 "metadata": {
  "language_info": {
   "name": "python"
  }
 },
 "nbformat": 4,
 "nbformat_minor": 5
}

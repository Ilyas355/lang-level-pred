{
 "cells": [
  {
   "cell_type": "markdown",
   "id": "cf2d5caa",
   "metadata": {},
   "source": [
    "# 02. Data Cleaning Notebook"
   ]
  },
  {
   "cell_type": "markdown",
   "id": "fa2484af",
   "metadata": {},
   "source": [
    "## Objectives\n",
    "- Remove duplicate entries from the dataset to ensure data quality\n",
    "- Handle missing values using appropriate strategies\n",
    "- Standardize data formats and fix inconsistent data types\n",
    "\n",
    "## Inputs\n",
    "- A cleaned version of the raw dataset file from data collection phase (i.e lang_proficiency_results)\n",
    "\n",
    "## Outputs\n",
    "- \n",
    "\n",
    "## Additional information\n",
    "- "
   ]
  },
  {
   "cell_type": "markdown",
   "id": "29cf875c",
   "metadata": {},
   "source": [
    "---"
   ]
  }
 ],
 "metadata": {
  "language_info": {
   "name": "python"
  }
 },
 "nbformat": 4,
 "nbformat_minor": 5
}

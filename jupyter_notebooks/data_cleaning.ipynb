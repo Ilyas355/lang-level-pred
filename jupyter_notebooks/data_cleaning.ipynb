{
 "cells": [
  {
   "cell_type": "markdown",
   "id": "cf2d5caa",
   "metadata": {},
   "source": [
    "# 02. Data Cleaning Notebook"
   ]
  },
  {
   "cell_type": "markdown",
   "id": "fa2484af",
   "metadata": {},
   "source": [
    "## Objectives\n",
    "- Remove duplicate entries from the dataset to ensure data quality\n",
    "- Handle missing values using appropriate strategies\n",
    "- Standardize data formats and fix inconsistent data types\n",
    "\n",
    "## Inputs\n",
    "- A cleaned version of the raw dataset file from data collection phase (i.e lang_proficiency_results)\n",
    "\n",
    "## Outputs\n",
    "- Cleaned dataset with consistent formatting and data types\n",
    "- Documentation of data cleaning decisions and transformations applied\n",
    "- Summary statistics of data quality improvements\n",
    "\n",
    "## Additional information\n",
    "- All cleaning operations are documented with clear rationale for reproducibility\n",
    "- Any data removed or significantly modified is logged for transparency\n",
    "- Raw data backups are preserved and data quality metrics tracked throughout the process\n",
    "- Missing values and outliers are handled using domain-appropriate strategies with clear documentation"
   ]
  },
  {
   "cell_type": "markdown",
   "id": "29cf875c",
   "metadata": {},
   "source": [
    "---"
   ]
  },
  {
   "cell_type": "markdown",
   "id": "2f144df6",
   "metadata": {},
   "source": [
    "# Project Directory Structure"
   ]
  },
  {
   "cell_type": "markdown",
   "id": "e262d735",
   "metadata": {},
   "source": [
    "## Change working directory\n",
    "\n",
    "We need to change the working directory from its current folder to the folder the code of this project is currently located"
   ]
  },
  {
   "cell_type": "code",
   "execution_count": 1,
   "id": "1f6647d9",
   "metadata": {},
   "outputs": [
    {
     "data": {
      "text/plain": [
       "'c:\\\\Users\\\\husse\\\\OneDrive\\\\Projects\\\\lang-level-pred\\\\jupyter_notebooks'"
      ]
     },
     "execution_count": 1,
     "metadata": {},
     "output_type": "execute_result"
    }
   ],
   "source": [
    "import os\n",
    "current_dir = os.getcwd()\n",
    "current_dir"
   ]
  },
  {
   "cell_type": "code",
   "execution_count": 2,
   "id": "dd36c66c",
   "metadata": {},
   "outputs": [
    {
     "name": "stdout",
     "output_type": "stream",
     "text": [
      "Working directory: c:\\Users\\husse\\OneDrive\\Projects\\lang-level-pred\n"
     ]
    }
   ],
   "source": [
    "from pathlib import Path\n",
    "\n",
    "# swtich to project root directory\n",
    "project_root = Path.cwd().parent\n",
    "os.chdir(project_root)\n",
    "print(f\"Working directory: {os.getcwd()}\")"
   ]
  },
  {
   "cell_type": "markdown",
   "id": "e89a5bfd",
   "metadata": {},
   "source": [
    "---"
   ]
  },
  {
   "cell_type": "markdown",
   "id": "32c06e13",
   "metadata": {},
   "source": [
    "# Data loading and basic exploration\n",
    "This code block imports fundamental Python libraries for data analysis and visualization and checks their versions\n",
    "\n",
    "- pandas: For data manipulation and analysis\n",
    "- numpy: For numerical computations\n",
    "- matplotlib: For creating visualizations and plots\n",
    "\n",
    "The version checks help ensure:\n",
    "- Code compatibility across different environments\n",
    "- Reproducibility of analysis\n",
    "- Easy debugging of version-specific issues"
   ]
  },
  {
   "cell_type": "code",
   "execution_count": 4,
   "id": "49f40cbb",
   "metadata": {},
   "outputs": [
    {
     "name": "stdout",
     "output_type": "stream",
     "text": [
      "pandas version: 2.3.1\n",
      "NumPy version: 2.3.1\n",
      "matplotlib version: 3.10.5\n"
     ]
    }
   ],
   "source": [
    "# Import data analysis tools\n",
    "import pandas as pd\n",
    "import numpy as np\n",
    "import matplotlib\n",
    "import matplotlib.pyplot as plt\n",
    "\n",
    "\n",
    "print(f\"pandas version: {pd.__version__}\")\n",
    "print(f\"NumPy version: {np.__version__}\")\n",
    "print(f\"matplotlib version: {matplotlib.__version__}\")"
   ]
  },
  {
   "cell_type": "markdown",
   "id": "c9fd1233",
   "metadata": {},
   "source": [
    "### List Files and Folders\n",
    "- This code shows what files and folders are in our data folder and what folder we are currently in. \n",
    "- Subsequently we aren't in the right folder so the current path is set to the parent folder."
   ]
  },
  {
   "cell_type": "code",
   "execution_count": 5,
   "id": "4a71e9d8",
   "metadata": {},
   "outputs": [
    {
     "name": "stdout",
     "output_type": "stream",
     "text": [
      "[INFO] Files/folders available in data\\raw:\n"
     ]
    },
    {
     "data": {
      "text/plain": [
       "['lang_proficiency_results_raw.csv']"
      ]
     },
     "execution_count": 5,
     "metadata": {},
     "output_type": "execute_result"
    }
   ],
   "source": [
    "import os\n",
    "from pathlib import Path\n",
    "\n",
    "dataset_dir = Path(\"data/raw\")\n",
    "print(f\"[INFO] Files/folders available in {dataset_dir}:\")\n",
    "os.listdir(dataset_dir)"
   ]
  },
  {
   "cell_type": "markdown",
   "id": "098a5f3d",
   "metadata": {},
   "source": [
    "## Load dataset\n",
    "This code loads the dataset that is then displayed in the dataframe."
   ]
  },
  {
   "cell_type": "code",
   "execution_count": 7,
   "id": "db14c4e7",
   "metadata": {},
   "outputs": [],
   "source": [
    "import pandas as pd\n",
    "from pathlib import Path\n",
    "\n",
    "# Define the path to the CSV file\n",
    "file_path = Path(\"data/raw/lang_proficiency_results_raw.csv\")\n",
    "\n",
    "# Read the CSV file\n",
    "df = pd.read_csv(file_path)"
   ]
  },
  {
   "cell_type": "markdown",
   "id": "2a875771",
   "metadata": {},
   "source": [
    "## Identifying problems in dataset"
   ]
  },
  {
   "cell_type": "markdown",
   "id": "b1d75326",
   "metadata": {},
   "source": [
    "### Check Missing Values in Dataset\n",
    "This code analyzes and displays missing values in our bulldozer dataset:\n",
    "- Uses pandas' isna() function to identify missing values\n",
    "- Counts total missing values per column using sum()\n",
    "- Sorts results in descending order to highlight columns with most missing data\n",
    "\n",
    "Previously this showed multiple missing values in some of the columns but i mistakenly ran it again after fixing the issue."
   ]
  },
  {
   "cell_type": "code",
   "execution_count": 8,
   "id": "8735828e",
   "metadata": {},
   "outputs": [
    {
     "data": {
      "text/plain": [
       "overall_cefr       16\n",
       "listening_score    16\n",
       "speaking_score     14\n",
       "reading_score       9\n",
       "writing_score       8\n",
       "user_id             0\n",
       "dtype: int64"
      ]
     },
     "execution_count": 8,
     "metadata": {},
     "output_type": "execute_result"
    }
   ],
   "source": [
    "# Check missing values\n",
    "df.isna().sum().sort_values(ascending=False)"
   ]
  }
 ],
 "metadata": {
  "kernelspec": {
   "display_name": ".venv",
   "language": "python",
   "name": "python3"
  },
  "language_info": {
   "codemirror_mode": {
    "name": "ipython",
    "version": 3
   },
   "file_extension": ".py",
   "mimetype": "text/x-python",
   "name": "python",
   "nbconvert_exporter": "python",
   "pygments_lexer": "ipython3",
   "version": "3.13.2"
  }
 },
 "nbformat": 4,
 "nbformat_minor": 5
}
